{
 "cells": [
  {
   "cell_type": "markdown",
   "id": "68ecdbc8",
   "metadata": {},
   "source": [
    "# Buổi học bù"
   ]
  },
  {
   "cell_type": "markdown",
   "id": "8cc63a54",
   "metadata": {},
   "source": [
    "Buổi 1: Thế giới AI\n",
    "- Khái niệm AI\n",
    "+ AI là gì?\n",
    "+ AI xuất hiện ở đâu?\n",
    "\n",
    "=> \"Trí tuệ' trong 'trí tuệ nhân tạo':\n",
    "+ Ghi nhớ thông tin?\n",
    "+ Giải quyết vấn đề?\n",
    "+ Nhìn nhận thế giới sâu sắc?\n",
    "===> Nhận thức -> Suy luận -> Lưu trữ thành kiến thức -> Áp dụng kiến thức vào tình huống phù hợp.\n",
    "\n",
    "2 lọa AI\n",
    "+ AI tạo sinh: Sáng tạo... \n",
    "+ AI dự đoán: Dựa trên input từ quá khứ \n",
    "\n",
    "Mạng neuron và cách mạng neuron: \n",
    "- Các node trong một lớp (layer) được kết nối với các node khác trong lớp tiếp theo\n",
    "- Mỗi lớp ----> trên đường đi (được tính toán) ----> Kết quả dự đoán.\n",
    "- Khi huấn luyện với mạng này thì: với Input và Output cho trước, mạng neuron sẽ cập nhật lại các hàm tính toán sao cho từ input => output.\n",
    "\n"
   ]
  },
  {
   "cell_type": "markdown",
   "id": "6031b23d",
   "metadata": {},
   "source": [
    "# Buổi 2: Huấn luyện đôi mắt máy tính\n",
    "- Tạo mạng neuron với framework Keras\n",
    "- Mạng neuron tích chập (CNN): Convolutional Neural Network\n",
    "\n",
    "1. Tạo mạng neuron với Keras: \n",
    "- Tạo môi trường ảo và cài: Tensorflow \n",
    "\n",
    "Thực hành với bài: quy đổi độ F - độ C\n",
    "\n",
    "\n",
    "Mô hình tuần tự Sequential cần xây dựng gồm 2 layer: Dense => là layer kết nối tất cả các node ở layer trước đến layer sau nó, nhận vào các tham số\n",
    "- units: Số node trong layer Dense (tùy chọn)\n",
    "- input_shape: đầu ra của layer Dense (phụ thuộc vào dữ liệu )"
   ]
  }
 ],
 "metadata": {
  "kernelspec": {
   "display_name": ".venv",
   "language": "python",
   "name": "python3"
  },
  "language_info": {
   "name": "python",
   "version": "3.9.6"
  }
 },
 "nbformat": 4,
 "nbformat_minor": 5
}
