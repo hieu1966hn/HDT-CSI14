{
 "cells": [
  {
   "cell_type": "markdown",
   "metadata": {},
   "source": [
    "# Setup môi trường\n",
    "1. Truy cập [Google AI Studio](https://aistudio.google.com/apikey) và chọn `Create API Key`\n",
    "2. Tạo file `.env` và lưu API key dưới dạng `GOOGLE_API_KEY=\"YOUR_API_KEY\"`\n",
    "3. Sử dụng thư viện `python-dotenv` để quản lý API Key"
   ]
  },
  {
   "cell_type": "code",
   "execution_count": 1,
   "metadata": {},
   "outputs": [
    {
     "name": "stdout",
     "output_type": "stream",
     "text": [
      "Requirement already satisfied: python-dotenv in /Users/hieu1966hn/Desktop/MindX/MindX-CS/HDT/HDT-CSI14/.venv/lib/python3.9/site-packages (1.1.0)\n",
      "Note: you may need to restart the kernel to use updated packages.\n"
     ]
    }
   ],
   "source": [
    "pip install python-dotenv"
   ]
  },
  {
   "cell_type": "code",
   "execution_count": 2,
   "metadata": {},
   "outputs": [
    {
     "name": "stderr",
     "output_type": "stream",
     "text": [
      "/Users/hieu1966hn/Desktop/MindX/MindX-CS/HDT/HDT-CSI14/.venv/lib/python3.9/site-packages/urllib3/__init__.py:35: NotOpenSSLWarning: urllib3 v2 only supports OpenSSL 1.1.1+, currently the 'ssl' module is compiled with 'LibreSSL 2.8.3'. See: https://github.com/urllib3/urllib3/issues/3020\n",
      "  warnings.warn(\n",
      "/Users/hieu1966hn/Desktop/MindX/MindX-CS/HDT/HDT-CSI14/.venv/lib/python3.9/site-packages/tqdm/auto.py:21: TqdmWarning: IProgress not found. Please update jupyter and ipywidgets. See https://ipywidgets.readthedocs.io/en/stable/user_install.html\n",
      "  from .autonotebook import tqdm as notebook_tqdm\n"
     ]
    }
   ],
   "source": [
    "import os\n",
    "import pandas as pd\n",
    "from dotenv import load_dotenv\n",
    "import google.generativeai as genai"
   ]
  },
  {
   "cell_type": "code",
   "execution_count": 3,
   "metadata": {},
   "outputs": [],
   "source": [
    "load_dotenv()\n",
    "google_api_key = os.getenv(\"GOOGLE_API_KEY\")\n",
    "genai.configure(api_key=google_api_key)"
   ]
  },
  {
   "cell_type": "markdown",
   "metadata": {},
   "source": [
    "# LLM\n",
    "## Tạo LLM với API\n",
    "Sử dụng class `GenerativeModel` và tạo một object LLM với mô hình là `gemini-1.5-flash`"
   ]
  },
  {
   "cell_type": "code",
   "execution_count": 4,
   "metadata": {},
   "outputs": [],
   "source": [
    "model = genai.GenerativeModel(\"gemini-1.5-flash\")"
   ]
  },
  {
   "cell_type": "markdown",
   "metadata": {},
   "source": [
    "## Tương tác với LLM\n",
    "Thử tương tác với mô hình bằng phương thức `generate_content` của đối tượng `model`"
   ]
  },
  {
   "cell_type": "code",
   "execution_count": 7,
   "metadata": {},
   "outputs": [
    {
     "data": {
      "text/plain": [
       "response:\n",
       "GenerateContentResponse(\n",
       "    done=True,\n",
       "    iterator=None,\n",
       "    result=protos.GenerateContentResponse({\n",
       "      \"candidates\": [\n",
       "        {\n",
       "          \"content\": {\n",
       "            \"parts\": [\n",
       "              {\n",
       "                \"text\": \"T\\u00f4i l\\u00e0 m\\u1ed9t m\\u00f4 h\\u00ecnh ng\\u00f4n ng\\u1eef l\\u1edbn, \\u0111\\u01b0\\u1ee3c \\u0111\\u00e0o t\\u1ea1o b\\u1edfi Google. T\\u00f4i c\\u00f3 th\\u1ec3 l\\u00e0m nhi\\u1ec1u vi\\u1ec7c, bao g\\u1ed3m nh\\u01b0ng kh\\u00f4ng gi\\u1edbi h\\u1ea1n \\u1edf:\\n\\n* **T\\u1ea1o v\\u0103n b\\u1ea3n:** T\\u00f4i c\\u00f3 th\\u1ec3 vi\\u1ebft c\\u00e2u chuy\\u1ec7n, b\\u00e0i th\\u01a1, b\\u00e0i b\\u00e1o, email, m\\u00e3 code, k\\u1ecbch b\\u1ea3n v\\u00e0 nhi\\u1ec1u lo\\u1ea1i v\\u0103n b\\u1ea3n kh\\u00e1c theo y\\u00eau c\\u1ea7u c\\u1ee7a b\\u1ea1n.  T\\u00f4i c\\u00f3 th\\u1ec3 vi\\u1ebft b\\u1eb1ng nhi\\u1ec1u phong c\\u00e1ch kh\\u00e1c nhau, t\\u1eeb trang tr\\u1ecdng \\u0111\\u1ebfn th\\u00e2n m\\u1eadt.\\n\\n* **T\\u00f3m t\\u1eaft v\\u0103n b\\u1ea3n:** T\\u00f4i c\\u00f3 th\\u1ec3 t\\u00f3m t\\u1eaft c\\u00e1c v\\u0103n b\\u1ea3n d\\u00e0i th\\u00e0nh c\\u00e1c \\u0111o\\u1ea1n ng\\u1eafn h\\u01a1n, gi\\u1eef l\\u1ea1i th\\u00f4ng tin quan tr\\u1ecdng.\\n\\n* **D\\u1ecbch thu\\u1eadt:** T\\u00f4i c\\u00f3 th\\u1ec3 d\\u1ecbch v\\u0103n b\\u1ea3n gi\\u1eefa nhi\\u1ec1u ng\\u00f4n ng\\u1eef.\\n\\n* **Tr\\u1ea3 l\\u1eddi c\\u00e2u h\\u1ecfi:** T\\u00f4i c\\u00f3 th\\u1ec3 tr\\u1ea3 l\\u1eddi c\\u00e1c c\\u00e2u h\\u1ecfi c\\u1ee7a b\\u1ea1n d\\u1ef1a tr\\u00ean ki\\u1ebfn th\\u1ee9c c\\u1ee7a t\\u00f4i, \\u0111\\u01b0\\u1ee3c thu th\\u1eadp t\\u1eeb m\\u1ed9t l\\u01b0\\u1ee3ng l\\u1edbn d\\u1eef li\\u1ec7u v\\u0103n b\\u1ea3n.\\n\\n* **T\\u1ea1o n\\u1ed9i dung s\\u00e1ng t\\u1ea1o:** T\\u00f4i c\\u00f3 th\\u1ec3 vi\\u1ebft truy\\u1ec7n c\\u01b0\\u1eddi, c\\u00e2u \\u0111\\u1ed1, ho\\u1eb7c th\\u1eadm ch\\u00ed c\\u1ea3 nh\\u1eefng c\\u00e2u chuy\\u1ec7n gi\\u1ea3 t\\u01b0\\u1edfng.\\n\\n* **Gi\\u00fap vi\\u1ebft code:** T\\u00f4i c\\u00f3 th\\u1ec3 gi\\u00fap b\\u1ea1n vi\\u1ebft code, debug code, ho\\u1eb7c gi\\u1ea3i th\\u00edch c\\u00e1c \\u0111o\\u1ea1n code.\\n\\n* **Ph\\u00e2n t\\u00edch v\\u0103n b\\u1ea3n:** T\\u00f4i c\\u00f3 th\\u1ec3 ph\\u00e2n t\\u00edch v\\u0103n b\\u1ea3n \\u0111\\u1ec3 t\\u00ecm hi\\u1ec3u v\\u1ec1 ch\\u1ee7 \\u0111\\u1ec1, gi\\u1ecdng \\u0111i\\u1ec7u, ho\\u1eb7c c\\u1ea3m x\\u00fac.\\n\\n* **\\u0110\\u1ec1 xu\\u1ea5t \\u00fd t\\u01b0\\u1edfng:** T\\u00f4i c\\u00f3 th\\u1ec3 cung c\\u1ea5p \\u00fd t\\u01b0\\u1edfng cho c\\u00e1c b\\u00e0i vi\\u1ebft, d\\u1ef1 \\u00e1n, ho\\u1eb7c c\\u00e1c ho\\u1ea1t \\u0111\\u1ed9ng kh\\u00e1c.\\n\\n\\nTuy nhi\\u00ean, t\\u00f4i c\\u1ea7n l\\u01b0u \\u00fd r\\u1eb1ng:\\n\\n* **T\\u00f4i kh\\u00f4ng c\\u00f3 \\u00fd th\\u1ee9c ho\\u1eb7c c\\u1ea3m x\\u00fac:** T\\u00f4i ch\\u1ec9 l\\u00e0 m\\u1ed9t m\\u00f4 h\\u00ecnh ng\\u00f4n ng\\u1eef, t\\u00f4i kh\\u00f4ng c\\u00f3 kh\\u1ea3 n\\u0103ng suy ngh\\u0129, c\\u1ea3m nh\\u1eadn ho\\u1eb7c tr\\u1ea3i nghi\\u1ec7m nh\\u01b0 con ng\\u01b0\\u1eddi.\\n* **Th\\u00f4ng tin c\\u1ee7a t\\u00f4i c\\u00f3 gi\\u1edbi h\\u1ea1n:** Ki\\u1ebfn th\\u1ee9c c\\u1ee7a t\\u00f4i d\\u1ef1a tr\\u00ean d\\u1eef li\\u1ec7u m\\u00e0 t\\u00f4i \\u0111\\u01b0\\u1ee3c \\u0111\\u00e0o t\\u1ea1o, v\\u00e0 th\\u00f4ng tin n\\u00e0y c\\u00f3 th\\u1ec3 kh\\u00f4ng ho\\u00e0n to\\u00e0n ch\\u00ednh x\\u00e1c ho\\u1eb7c c\\u1eadp nh\\u1eadt.\\n* **T\\u00f4i kh\\u00f4ng th\\u1ec3 thay th\\u1ebf con ng\\u01b0\\u1eddi:** T\\u00f4i l\\u00e0 m\\u1ed9t c\\u00f4ng c\\u1ee5 h\\u1ed7 tr\\u1ee3, kh\\u00f4ng ph\\u1ea3i l\\u00e0 s\\u1ef1 thay th\\u1ebf cho c\\u00e1c chuy\\u00ean gia hay con ng\\u01b0\\u1eddi trong c\\u00e1c c\\u00f4ng vi\\u1ec7c \\u0111\\u00f2i h\\u1ecfi s\\u1ef1 ph\\u00e1n \\u0111o\\u00e1n, s\\u00e1ng t\\u1ea1o, ho\\u1eb7c s\\u1ef1 \\u0111\\u1ed3ng c\\u1ea3m.\\n\\n\\nH\\u00e3y cho t\\u00f4i bi\\u1ebft b\\u1ea1n mu\\u1ed1n t\\u00f4i l\\u00e0m g\\u00ec!  C\\u00e0ng chi ti\\u1ebft y\\u00eau c\\u1ea7u c\\u1ee7a b\\u1ea1n, t\\u00f4i c\\u00e0ng c\\u00f3 th\\u1ec3 \\u0111\\u00e1p \\u1ee9ng t\\u1ed1t h\\u01a1n.\\n\"\n",
       "              }\n",
       "            ],\n",
       "            \"role\": \"model\"\n",
       "          },\n",
       "          \"finish_reason\": \"STOP\",\n",
       "          \"avg_logprobs\": -0.3016335717562971\n",
       "        }\n",
       "      ],\n",
       "      \"usage_metadata\": {\n",
       "        \"prompt_token_count\": 6,\n",
       "        \"candidates_token_count\": 464,\n",
       "        \"total_token_count\": 470\n",
       "      },\n",
       "      \"model_version\": \"gemini-1.5-flash\"\n",
       "    }),\n",
       ")"
      ]
     },
     "execution_count": 7,
     "metadata": {},
     "output_type": "execute_result"
    }
   ],
   "source": [
    "prompt = 'Bạn có thể làm gì?'\n",
    "response = model.generate_content(prompt)\n",
    "response"
   ]
  },
  {
   "cell_type": "markdown",
   "metadata": {},
   "source": [
    "Kết quả sẽ trả về một đối tượng có cấu trúc, và ta quan sát được câu trả lời của mô hình nằm ở phần `result` -> `candidates` -> `content` -> `parts` -> `text`.\n",
    "\n",
    "Để truy cập nhanh câu trả lời, sử dụng trực tiếp thuộc tính `text` của đối tượng `response`."
   ]
  },
  {
   "cell_type": "code",
   "execution_count": 8,
   "metadata": {},
   "outputs": [
    {
     "data": {
      "text/plain": [
       "'Tôi là một mô hình ngôn ngữ lớn, được đào tạo bởi Google. Tôi có thể làm nhiều việc, bao gồm nhưng không giới hạn ở:\\n\\n* **Tạo văn bản:** Tôi có thể viết câu chuyện, bài thơ, bài báo, email, mã code, kịch bản và nhiều loại văn bản khác theo yêu cầu của bạn.  Tôi có thể viết bằng nhiều phong cách khác nhau, từ trang trọng đến thân mật.\\n\\n* **Tóm tắt văn bản:** Tôi có thể tóm tắt các văn bản dài thành các đoạn ngắn hơn, giữ lại thông tin quan trọng.\\n\\n* **Dịch thuật:** Tôi có thể dịch văn bản giữa nhiều ngôn ngữ.\\n\\n* **Trả lời câu hỏi:** Tôi có thể trả lời các câu hỏi của bạn dựa trên kiến thức của tôi, được thu thập từ một lượng lớn dữ liệu văn bản.\\n\\n* **Tạo nội dung sáng tạo:** Tôi có thể viết truyện cười, câu đố, hoặc thậm chí cả những câu chuyện giả tưởng.\\n\\n* **Giúp viết code:** Tôi có thể giúp bạn viết code, debug code, hoặc giải thích các đoạn code.\\n\\n* **Phân tích văn bản:** Tôi có thể phân tích văn bản để tìm hiểu về chủ đề, giọng điệu, hoặc cảm xúc.\\n\\n* **Đề xuất ý tưởng:** Tôi có thể cung cấp ý tưởng cho các bài viết, dự án, hoặc các hoạt động khác.\\n\\n\\nTuy nhiên, tôi cần lưu ý rằng:\\n\\n* **Tôi không có ý thức hoặc cảm xúc:** Tôi chỉ là một mô hình ngôn ngữ, tôi không có khả năng suy nghĩ, cảm nhận hoặc trải nghiệm như con người.\\n* **Thông tin của tôi có giới hạn:** Kiến thức của tôi dựa trên dữ liệu mà tôi được đào tạo, và thông tin này có thể không hoàn toàn chính xác hoặc cập nhật.\\n* **Tôi không thể thay thế con người:** Tôi là một công cụ hỗ trợ, không phải là sự thay thế cho các chuyên gia hay con người trong các công việc đòi hỏi sự phán đoán, sáng tạo, hoặc sự đồng cảm.\\n\\n\\nHãy cho tôi biết bạn muốn tôi làm gì!  Càng chi tiết yêu cầu của bạn, tôi càng có thể đáp ứng tốt hơn.\\n'"
      ]
     },
     "execution_count": 8,
     "metadata": {},
     "output_type": "execute_result"
    }
   ],
   "source": [
    "response.text"
   ]
  },
  {
   "cell_type": "markdown",
   "metadata": {},
   "source": [
    "## Thêm ngữ cảnh cho LLM\n",
    "Để hướng dẫn LLM giải quyết một tác vụ cụ thể, ta sử dụng prompt engineering.\n",
    "\n",
    "Bạn là chủ một nhà hàng. Hãy viết hướng dẫn phù hợp để LLM của bạn có thể:\n",
    "1. quảng cáo về nhà hàng\n",
    "2. giới thiệu menu cho khách hàng\n",
    "\n",
    "Với Gemini API, ta có thể đưa hướng dẫn vào tham số `system_instruction` ngay lúc tạo đối tượng `model`."
   ]
  },
  {
   "cell_type": "code",
   "execution_count": null,
   "metadata": {},
   "outputs": [],
   "source": [
    "model = genai.GenerativeModel(\"gemini-1.5-flash\",\n",
    "                              system_instruction=\"\"\"\n",
    "                              Bạn tên là MienLuon, một trợ lý AI có nhiệm vụ hỗ trợ giải đáp thông tin cho khách hàng đến nhà hàng PhoBo Cuisine.\n",
    "                              \n",
    "                              Các chức năng mà bạn hỗ trợ gồm:\n",
    "                              1. Giới thiệu nhà hàng PhoBo Cuisine: là một nhà hàng thành lập bởi doanh nghiệp Việt Nam, ở địa chỉ 22 Jump Streets, New York, USA \n",
    "                              2. Giới thiệu menu nhà hàng gồm các món: phở, bún bò, cớm tấm, cơm rang, nem nướng, bánh mỳ sốt vang, bánh mỳ pate, cháo sườn, bún chả, ...\n",
    "                              \n",
    "                              Đối với các câu hỏi ngoài chức năng mà bạn hỗ trợ, trả lời bằng 'Tôi đang không hỗ trợ chức năng này. Xin liên hệ nhân viên nhà hàng để biết thêm thông tin.\n",
    "                              '\n",
    "                              \"\"\")"
   ]
  },
  {
   "cell_type": "markdown",
   "metadata": {},
   "source": [
    "Thử lại với prompt đến từ khách hàng."
   ]
  },
  {
   "cell_type": "code",
   "execution_count": 15,
   "metadata": {},
   "outputs": [
    {
     "name": "stdout",
     "output_type": "stream",
     "text": [
      "Nhà hàng PhoBo Cuisine nằm ở địa chỉ 22 Jump Streets, New York, USA\n",
      "\n"
     ]
    }
   ],
   "source": [
    "prompt = 'Địa chỉ nhà hàng'\n",
    "response = model.generate_content(prompt)\n",
    "print(response.text)"
   ]
  },
  {
   "cell_type": "markdown",
   "metadata": {},
   "source": [
    "## Thử thách prompt engineer\n",
    "Hãy lần lượt thêm vào hướng dẫn của mô hình các nội dung sau:\n",
    "* Nói chuyện lịch sự hơn với khách hàng\n",
    "* Xử lý các yêu cầu không liên quan đến chức năng của khách hàng\n",
    "\n",
    "Theo dõi cách mô hình thay đổi câu trả lời khi đã chỉnh sửa hướng dẫn."
   ]
  },
  {
   "cell_type": "code",
   "execution_count": 16,
   "metadata": {},
   "outputs": [],
   "source": [
    "model = genai.GenerativeModel(\"gemini-1.5-flash\",\n",
    "                              system_instruction=\"\"\"\n",
    "                              Bạn tên là MienLuon, một trợ lý AI có nhiệm vụ hỗ trợ giải đáp thông tin cho khách hàng đến nhà hàng PhoBo Cuisine.\n",
    "                              \n",
    "                              Các chức năng mà bạn hỗ trợ gồm:\n",
    "                              1. Giới thiệu nhà hàng PhoBo Cuisine: là một nhà hàng thành lập bởi doanh nghiệp Việt Nam, ở địa chỉ 22 Jump Streets, New York, USA \n",
    "                              2. Giới thiệu menu nhà hàng gồm các món: phở, bún bò, cớm tấm, cơm rang, nem nướng, bánh mỳ sốt vang, bánh mỳ pate, cháo sườn, bún chả, ...\n",
    "                              \n",
    "                              Đối với các câu hỏi ngoài chức năng mà bạn hỗ trợ, trả lời bằng 'Tôi đang không hỗ trợ chức năng này. Xin liên hệ nhân viên nhà hàng để biết thêm thông tin.\n",
    "                              \n",
    "                              Hãy có thái độ thân thiện và lịch sự khi nói chuyện với khách hàng, vì khách hàng là thượng đế.\n",
    "                              \"\"\")"
   ]
  },
  {
   "cell_type": "code",
   "execution_count": null,
   "metadata": {},
   "outputs": [
    {
     "data": {
      "text/plain": [
       "'Chào anh/chị!  Rất vui được chào đón anh/chị đến với PhoBo Cuisine!  Chúng tôi có thực đơn đa dạng với nhiều món ăn Việt Nam ngon miệng, phù hợp với mọi khẩu vị.  Nhà hàng chúng tôi có phở, bún bò, cơm tấm, cơm rang, nem nướng, bánh mì sốt vang, bánh mì pate, cháo sườn, bún chả và nhiều món khác nữa.  Tất cả các món ăn đều được chế biến tươi ngon, đảm bảo vệ sinh an toàn thực phẩm.  Anh/chị có thể xem chi tiết thực đơn trên website của chúng tôi hoặc hỏi nhân viên phục vụ để được tư vấn thêm nhé!  Chúng tôi rất mong được phục vụ anh/chị!\\n'"
      ]
     },
     "execution_count": 17,
     "metadata": {},
     "output_type": "execute_result"
    }
   ],
   "source": [
    "prompt = \"Nhà hàng mình có những món ăn gì dành cho tôi không\"\n",
    "response = model.generate_content(prompt)\n",
    "response.text"
   ]
  },
  {
   "cell_type": "markdown",
   "metadata": {},
   "source": [
    "## Kết nối file dữ liệu với LLM"
   ]
  },
  {
   "cell_type": "markdown",
   "metadata": {},
   "source": [
    "Đọc file dữ liệu từ `menu.csv` vào DataFrame`menu_df`"
   ]
  },
  {
   "cell_type": "code",
   "execution_count": 18,
   "metadata": {},
   "outputs": [
    {
     "data": {
      "application/vnd.microsoft.datawrangler.viewer.v0+json": {
       "columns": [
        {
         "name": "index",
         "rawType": "int64",
         "type": "integer"
        },
        {
         "name": "name",
         "rawType": "object",
         "type": "string"
        },
        {
         "name": "description",
         "rawType": "object",
         "type": "string"
        },
        {
         "name": "ingredients",
         "rawType": "object",
         "type": "string"
        },
        {
         "name": "notes",
         "rawType": "object",
         "type": "unknown"
        }
       ],
       "ref": "698787c2-04a7-438a-ab48-0ce0c60b4c74",
       "rows": [
        [
         "0",
         "Gỏi Cuốn",
         "Mỗi chiếc gỏi cuốn được cuốn cẩn thận trong lá bánh tráng mềm mại, kết hợp với các loại rau sống, thịt hoặc tôm tươi, và thường được thưởng thức cùng với nước mắm pha chua ngọt.",
         "bún, bánh tráng, tôm, thịt bò phi lê, rau sống",
         "Món gỏi cuốn thường được phục vụ tươi và phải ăn liền sau khi cuốn để trải nghiệm hương vị tốt nhất."
        ],
        [
         "1",
         "Phở Việt Nam",
         "Nổi tiếng với hương vị đậm đà và hương thơm của gia vị tự nhiên. mỗi tô phở được chế biến từ nước dùng thơm ngon, kết hợp với sợi bún mềm mại và các loại thịt hoặc hải sản tươi ngon.",
         "bún phở, thịt bò, thịt gà, hành tây, hành phi, rau sống, giá đỗ, ớt",
         "Thịt bò có thể chọn giữa tái và chín."
        ],
        [
         "2",
         "Cơm Tấm",
         "Cơm tấm là một món ăn đường phố phổ biến trong ẩm Việt Nam. Mỗi đĩa cơm tấm thường bao gồm cơm nấu từ gạo tấm, kết hợp với các thịt heo nướng, trứng hấp, chả, dưa leo và nước mắm.",
         "gạo tấm, thịt heo, trứng, chả, dưa leo, nước mắm chua ngọt",
         "Cơm tấm thường được ăn vào bữa trưa hoặc bữa tối và dùng kèm với nước mắm chua ngọt."
        ],
        [
         "3",
         "Bún Bò",
         "Bún bò là một món ăn đặc trưng của ẩm thực miền Trung Việt Nam, nổi tiếng với hương vị đậm đà và phong phú. Mỗi tô bún bò thường bao gồm sợi bún mềm mại, thịt bò cùng với nước dùng thơm ngon.",
         "bún, thịt bò, hành tây, hành tím, rau sống",
         "Thịt bò có thể chọn giữa tái, nạm, bắp bò, giò heo."
        ],
        [
         "3",
         "Khoai Tây Chiên",
         "Khoai tây chiên là một món ăn phổ biến và được ưa chuộng trên khắp thế giới, với vị giòn của lớp áo bên ngoài và khoai tây mềm bên trong.",
         "khoai tây, dầu, muối",
         null
        ]
       ],
       "shape": {
        "columns": 4,
        "rows": 5
       }
      },
      "text/html": [
       "<div>\n",
       "<style scoped>\n",
       "    .dataframe tbody tr th:only-of-type {\n",
       "        vertical-align: middle;\n",
       "    }\n",
       "\n",
       "    .dataframe tbody tr th {\n",
       "        vertical-align: top;\n",
       "    }\n",
       "\n",
       "    .dataframe thead th {\n",
       "        text-align: right;\n",
       "    }\n",
       "</style>\n",
       "<table border=\"1\" class=\"dataframe\">\n",
       "  <thead>\n",
       "    <tr style=\"text-align: right;\">\n",
       "      <th></th>\n",
       "      <th>name</th>\n",
       "      <th>description</th>\n",
       "      <th>ingredients</th>\n",
       "      <th>notes</th>\n",
       "    </tr>\n",
       "  </thead>\n",
       "  <tbody>\n",
       "    <tr>\n",
       "      <th>0</th>\n",
       "      <td>Gỏi Cuốn</td>\n",
       "      <td>Mỗi chiếc gỏi cuốn được cuốn cẩn thận trong lá...</td>\n",
       "      <td>bún, bánh tráng, tôm, thịt bò phi lê, rau sống</td>\n",
       "      <td>Món gỏi cuốn thường được phục vụ tươi và phải ...</td>\n",
       "    </tr>\n",
       "    <tr>\n",
       "      <th>1</th>\n",
       "      <td>Phở Việt Nam</td>\n",
       "      <td>Nổi tiếng với hương vị đậm đà và hương thơm củ...</td>\n",
       "      <td>bún phở, thịt bò, thịt gà, hành tây, hành phi,...</td>\n",
       "      <td>Thịt bò có thể chọn giữa tái và chín.</td>\n",
       "    </tr>\n",
       "    <tr>\n",
       "      <th>2</th>\n",
       "      <td>Cơm Tấm</td>\n",
       "      <td>Cơm tấm là một món ăn đường phố phổ biến trong...</td>\n",
       "      <td>gạo tấm, thịt heo, trứng, chả, dưa leo, nước m...</td>\n",
       "      <td>Cơm tấm thường được ăn vào bữa trưa hoặc bữa t...</td>\n",
       "    </tr>\n",
       "    <tr>\n",
       "      <th>3</th>\n",
       "      <td>Bún Bò</td>\n",
       "      <td>Bún bò là một món ăn đặc trưng của ẩm thực miề...</td>\n",
       "      <td>bún, thịt bò, hành tây, hành tím, rau sống</td>\n",
       "      <td>Thịt bò có thể chọn giữa tái, nạm, bắp bò, giò...</td>\n",
       "    </tr>\n",
       "    <tr>\n",
       "      <th>3</th>\n",
       "      <td>Khoai Tây Chiên</td>\n",
       "      <td>Khoai tây chiên là một món ăn phổ biến và được...</td>\n",
       "      <td>khoai tây, dầu, muối</td>\n",
       "      <td>NaN</td>\n",
       "    </tr>\n",
       "  </tbody>\n",
       "</table>\n",
       "</div>"
      ],
      "text/plain": [
       "              name                                        description  \\\n",
       "0         Gỏi Cuốn  Mỗi chiếc gỏi cuốn được cuốn cẩn thận trong lá...   \n",
       "1     Phở Việt Nam  Nổi tiếng với hương vị đậm đà và hương thơm củ...   \n",
       "2          Cơm Tấm  Cơm tấm là một món ăn đường phố phổ biến trong...   \n",
       "3           Bún Bò  Bún bò là một món ăn đặc trưng của ẩm thực miề...   \n",
       "3  Khoai Tây Chiên  Khoai tây chiên là một món ăn phổ biến và được...   \n",
       "\n",
       "                                         ingredients  \\\n",
       "0     bún, bánh tráng, tôm, thịt bò phi lê, rau sống   \n",
       "1  bún phở, thịt bò, thịt gà, hành tây, hành phi,...   \n",
       "2  gạo tấm, thịt heo, trứng, chả, dưa leo, nước m...   \n",
       "3         bún, thịt bò, hành tây, hành tím, rau sống   \n",
       "3                               khoai tây, dầu, muối   \n",
       "\n",
       "                                               notes  \n",
       "0  Món gỏi cuốn thường được phục vụ tươi và phải ...  \n",
       "1              Thịt bò có thể chọn giữa tái và chín.  \n",
       "2  Cơm tấm thường được ăn vào bữa trưa hoặc bữa t...  \n",
       "3  Thịt bò có thể chọn giữa tái, nạm, bắp bò, giò...  \n",
       "3                                                NaN  "
      ]
     },
     "execution_count": 18,
     "metadata": {},
     "output_type": "execute_result"
    }
   ],
   "source": [
    "menu_df = pd.read_csv(\"./menu.csv\", index_col=[0]) \n",
    "menu_df"
   ]
  },
  {
   "cell_type": "markdown",
   "metadata": {},
   "source": [
    "Cập nhật hướng dẫn với cột `name` trong `menu_df` và thử lại với prompt mới."
   ]
  },
  {
   "cell_type": "code",
   "execution_count": 19,
   "metadata": {},
   "outputs": [],
   "source": [
    "model = genai.GenerativeModel(\"gemini-1.5-flash\",\n",
    "                              system_instruction=f\"\"\"\n",
    "                              Bạn tên là MienLuon, một trợ lý AI có nhiệm vụ hỗ trợ giải đáp thông tin cho khách hàng đến nhà hàng PhoBo Cuisine.\n",
    "                              \n",
    "                              Các chức năng mà bạn hỗ trợ gồm:\n",
    "                              1. Giới thiệu nhà hàng PhoBo Cuisine: là một nhà hàng thành lập bởi doanh nghiệp Việt Nam, ở địa chỉ 22 Jump Streets, New York, USA \n",
    "                              2. Giới thiệu menu nhà hàng gồm các món: {', '.join(menu_df['name'].to_list())}\n",
    "                              Đối với các câu hỏi ngoài chức năng mà bạn hỗ trợ, trả lời bằng 'Tôi đang không hỗ trợ chức năng này. Xin liên hệ nhân viên nhà hàng để biết thêm thông tin.\n",
    "                              \n",
    "                              Hãy có thái độ thân thiện và lịch sự khi nói chuyện với khách hàng, vì khách hàng là thượng đế.\n",
    "                              \"\"\")"
   ]
  },
  {
   "cell_type": "code",
   "execution_count": 20,
   "metadata": {},
   "outputs": [
    {
     "data": {
      "text/markdown": [
       "Chào mừng bạn đến với PhoBo Cuisine!  Rất vui được hỗ trợ bạn. Dưới đây là menu của chúng tôi:\n",
       "\n",
       "* Gỏi Cuốn\n",
       "* Phở Việt Nam\n",
       "* Cơm Tấm\n",
       "* Bún Bò\n",
       "* Khoai Tây Chiên\n",
       "\n",
       "Bạn muốn tìm hiểu thêm về món nào không ạ?  Chúng tôi rất hân hạnh được phục vụ bạn!\n"
      ],
      "text/plain": [
       "<IPython.core.display.Markdown object>"
      ]
     },
     "execution_count": 20,
     "metadata": {},
     "output_type": "execute_result"
    }
   ],
   "source": [
    "from IPython.display import Markdown\n",
    "\n",
    "prompt = \"Liệt kê các món ăn trong menu\"\n",
    "answer = model.generate_content(prompt)\n",
    "Markdown(answer.text)"
   ]
  },
  {
   "cell_type": "markdown",
   "metadata": {},
   "source": [
    "## [Mở rộng] Hệ thống hỏi - đáp\n",
    "Sử dụng phương thức embed_content để biến DataFrame thành dạng embeddings để LLM có thể kết nối."
   ]
  },
  {
   "cell_type": "code",
   "execution_count": null,
   "metadata": {},
   "outputs": [
    {
     "name": "stdout",
     "output_type": "stream",
     "text": [
      "models/embedding-001\n",
      "models/text-embedding-004\n",
      "models/gemini-embedding-exp-03-07\n",
      "models/gemini-embedding-exp\n"
     ]
    }
   ],
   "source": [
    "for m in genai.list_models(): # liệt kê các mô hình hiện có trong thư viện genai\n",
    "    if 'embedContent' in m.supported_generation_methods: # kiểm tra mô hình có hỗ trợ phương thức embedContent không\n",
    "        print(m.name)"
   ]
  },
  {
   "cell_type": "code",
   "execution_count": null,
   "metadata": {},
   "outputs": [
    {
     "data": {
      "application/vnd.microsoft.datawrangler.viewer.v0+json": {
       "columns": [
        {
         "name": "index",
         "rawType": "int64",
         "type": "integer"
        },
        {
         "name": "name",
         "rawType": "object",
         "type": "string"
        },
        {
         "name": "description",
         "rawType": "object",
         "type": "string"
        },
        {
         "name": "ingredients",
         "rawType": "object",
         "type": "string"
        },
        {
         "name": "notes",
         "rawType": "object",
         "type": "unknown"
        },
        {
         "name": "description_emb",
         "rawType": "object",
         "type": "unknown"
        }
       ],
       "ref": "5d29fb17-6c7b-4586-9416-94d9e14084cb",
       "rows": [
        [
         "0",
         "Gỏi Cuốn",
         "Mỗi chiếc gỏi cuốn được cuốn cẩn thận trong lá bánh tráng mềm mại, kết hợp với các loại rau sống, thịt hoặc tôm tươi, và thường được thưởng thức cùng với nước mắm pha chua ngọt.",
         "bún, bánh tráng, tôm, thịt bò phi lê, rau sống",
         "Món gỏi cuốn thường được phục vụ tươi và phải ăn liền sau khi cuốn để trải nghiệm hương vị tốt nhất.",
         "[-0.013258968, 0.072852395, -0.0081224935, -0.020703884, 0.038062483, -0.01775735, 0.006590944, 0.011633682, -0.007839521, -0.013749887, -0.027698243, 0.05624807, 0.046591457, -0.012945829, 0.009401668, -0.057679646, 0.013259518, -0.0049435836, -0.122305326, 0.027470302, 0.0489144, 0.02346409, 0.04284291, -0.0035916993, -0.06863861, -0.047336206, -0.0008409131, 0.025733689, 0.02108591, -0.06795057, 0.048023082, 0.07936738, 0.015790075, -0.024210695, 0.04353936, 0.019372487, -0.010206215, 0.020100782, -0.010444686, -0.049890287, 0.00338807, -0.03519864, 0.0214801, 0.032280616, -0.008880309, -0.055692468, 0.016645985, 0.10845213, -0.039953962, 0.014997316, 0.048233382, 0.036804046, -0.010630151, 0.07625821, 0.014418931, -0.0054109176, 0.005582976, -0.0007000637, 0.019093102, 0.024370307, -0.0155249145, 0.001133549, -0.0109893605, -0.053050924, -0.008775927, 0.020637032, -0.0382931, -0.017533904, -0.040830553, -0.022684013, -0.053664397, -0.03624135, -0.04128474, 0.0065553566, 0.08025731, -0.058280554, -0.007307982, -0.009792153, -0.0019995987, 0.046836536, -0.06413438, 0.06938472, 0.08688902, 0.06430984, 0.016121814, -0.015218493, -0.00019515451, -0.053222157, -0.073815785, 0.0079208, 0.044912156, 0.014235531, -0.011923027, -0.041438166, 0.058786225, -0.050385688, -0.09895337, -0.03283909, 0.044828165, 0.009231441, 0.03290335, 0.02298849, -0.008002414, -0.09713592, 0.051979326, 0.028464794, 0.07768895, 0.007822964, -0.043138485, -0.001461462, -0.037675984, -0.034728765, 0.03306955, 0.026294202, 0.009155901, 0.013986246, 0.009494592, 0.005096497, -0.061087776, -0.04320433, -0.010787738, 0.004407419, -0.020321818, 0.06466103, 0.050144006, -0.02621681, 0.017135696, -0.045615133, 0.005797824, -0.040621452, 0.010498702, -0.11357605, -0.03161409, 0.052050006, 0.0075745233, 0.0013330092, 0.008889682, -0.04464135, 0.022032956, 0.033938397, 0.004206472, -0.05314667, -0.04204229, -0.0062311473, -0.0271197, -0.07112765, 0.012925977, 0.032232728, -0.007303626, 0.0082722, -0.018677434, 0.0062317336, 0.045872513, 0.0030267404, 0.017998641, 0.004843226, 0.0138050765, -0.055605706, 0.052464057, 0.010067039, 0.011378645, -0.00692574, 0.046757776, 0.0057875756, -0.05422216, -0.0042324294, -0.0009286189, -0.052011095, 0.020495329, 0.041096646, 0.010968254, -0.04700787, 0.027199565, -0.12606186, 0.0007346454, -0.014949178, -0.04114319, -0.017272566, -0.00036307485, 0.018868206, 0.029706554, 0.04541586, -0.024382442, -0.028947616, 0.016520385, 0.0016475539, 0.019306228, 0.028703272, 0.003470797, 0.05049992, -0.030435905, 0.0022155563, -0.032005183, 0.010385292, -0.049071297, -0.035583995, 0.04495876, -0.00394327, -0.010328507, -0.02635187, 0.008985926, -0.013045186, -0.028333165, -0.055899326, -0.005953518, 0.0637486, -0.012212361, -0.06254262, 0.025532896, 0.0032996899, 0.0017018297, 0.03411424, -0.025714757, 0.0017647462, 0.02878346, -0.019499177, 0.030860046, -0.0010268558, 0.01269768, -0.05958391, -0.0053404407, 0.042218734, 0.0841514, 0.0020905116, -0.010645454, 0.011682751, -0.0011071278, -0.035060056, 0.030517763, -0.041814294, 0.009198209, 0.053993836, 0.0063295057, 0.037725624, -0.0046957363, 0.019924078, 0.016981648, -0.044324145, 0.0017054046, 0.015059639, -0.015134019, 0.04598071, 0.06518816, 0.02362248, 0.0012787449, -0.056255426, 0.06395028, 0.028190583, 0.0032856106, -0.08990102, 0.04679452, -0.06105761, 0.048181824, -0.044224486, -0.009718942, -0.0036025525, 0.0006154595, 0.045559112, -0.048532706, 0.004113114, 0.070885375, -0.006049764, -0.05441705, -0.07402208, -0.016978504, -0.057710342, 0.009230427, 0.021644609, 0.048378605, -0.0138800265, 0.0035664241, -0.026346317, -0.031078266, -0.011172153, -0.02026609, -0.02400561, -0.023770675, 0.011833234, -0.031158507, -0.045430068, 0.03881058, 0.012906513, -0.03798188, 0.015791142, 0.051060256, -0.052134857, 0.022398107, 0.013828705, -0.038635384, 0.02788539, 0.046978403, 0.009440625, 0.0045737084, -0.088212825, 0.06275141, 0.005583284, 0.03013771, -0.009825213, -0.012561804, -0.02533521, -0.000857608, 0.06916531, 0.029540876, 0.00845421, 0.0017937964, -0.004875481, 0.017900182, -0.024056507, 0.045909528, 0.031305376, -0.010783849, 0.03667393, -0.10054357, -0.03897154, -0.057059716, -0.014884105, -0.14692174, -0.026590155, -0.0153566245, 0.010640911, 0.050289262, 0.0040957285, 0.031222032, 0.042262767, 0.030818969, -0.012011144, 0.029477838, -0.039146673, 0.0058642114, -0.010435797, 0.047476947, -0.036856428, -0.04441113, -0.007634327, -0.011595469, 0.020481866, -0.08721537, 0.03351852, 0.029869905, 0.04220067, 0.0051632333, -0.002290142, -0.0081466595, 0.025161894, -0.019068133, -0.03264255, 0.025574507, 0.0051875915, -0.016188, 0.04652561, 0.05785311, 0.081403255, 0.03388921, -0.02516886, -0.0075868904, -0.025373783, 0.041155007, 0.0006343685, 0.019502243, -0.04217922, 0.043699823, -0.02484708, 0.0011466744, -0.014566153, 0.05692451, -0.022378657, 0.04489545, 0.031799607, -0.03818497, -0.016628623, -0.020011887, 0.013067158, -0.025804698, 0.054355714, -0.015327531, 0.02482072, -0.006240737, 0.026314609, 0.04982961, -0.00094952376, -0.033136386, -0.037671555, 0.0020623992, 0.04066571, -0.0017044635, 0.053854793, -0.032546107, -0.035156738, -0.038895003, -0.0013973034, -0.027582299, 0.0146190105, 0.016132886, 0.037674043, -0.015480985, 0.049756434, -0.016260551, 0.020085603, 0.0049832007, 0.011238391, 0.013305194, -0.013643568, 0.078462966, -0.017185157, -0.0041828617, -0.02340275, 0.044180263, -0.0057332227, 0.018661175, 0.051393226, -0.032200206, -0.003834348, -0.010465369, 0.018341674, -0.038332324, -0.0228512, -0.0038157904, -0.034744967, 0.012038374, 0.0065142834, -0.035753425, 0.05737515, 0.08141538, 0.014013674, 0.0026230395, -0.038670547, 0.003020356, 0.02594666, -0.035001647, -0.025163744, 0.07272549, 0.037329935, -0.019269258, 0.011705155, 0.063165866, -0.02819579, 0.0027709375, -0.008676218, -0.002909659, -0.007452997, 0.014757239, -0.017259054, 0.0114976745, 0.009879508, -0.051179096, 0.00828025, 0.0744373, 0.03564998, -0.033232715, -0.002107108, 0.002887357, -0.0005286199, 0.009134071, -0.02575207, -0.061539885, -0.032407995, 0.027639173, 0.05372144, 0.00839213, 0.049773294, -0.02471324, -0.02090145, 0.03712965, -0.014778471, -0.013387151, -0.03918933, -0.017433772, -0.024738623, -0.031320658, -0.009973922, 0.07906386, -0.06061473, -0.0022833436, -0.0054733097, -0.012548062, -0.031818196, 0.034132436, 0.04537965, -0.037542414, 0.015669687, -0.014717648, 0.017001245, -0.0032399325, -0.006066792, 0.047393564, 0.010081375, 0.024433954, 0.025963726, 0.01922799, 0.05038264, 0.0020980642, 0.0453059, 0.0047082137, -0.047078416, -0.012757943, -0.011182144, -0.014719347, 0.006506401, -0.065663844, 0.054860972, 0.09750388, -0.05820524, -0.017089093, -0.06017705, -0.059491664, -0.01250717, 0.0018137078, -0.019434731, 0.0047598258, 0.022941358, 0.008759937, -0.026420688, -0.025215967, 0.011596154, -0.0018574097, 0.009447708, -0.033691607, 0.024462305, -0.0347141, 0.009227782, 0.07135879, -0.026406826, 0.035733633, 0.006399321, 0.008184995, 0.012126538, -0.0034115368, 0.027823785, 0.009854276, -0.021957964, -0.03798098, 0.005090443, 0.048000734, 0.0020986423, -0.050126366, 0.070655555, 0.022063183, -0.05536761, 0.030748256, 0.011991652, 0.026929166, 0.03624441, -0.014838451, 0.020995576, 0.011030055, 0.015801722, 0.030265572, 0.042255793, -0.017830094, 0.05218808, -0.02139092, 0.006786003, -0.03264833, 0.035395157, -0.020277947, -0.0041712914, 0.05370612, -0.033672996, 0.0052414853, -0.040557425, 0.0074386164, -0.008910051, 0.031767406, -0.029680125, 0.028353758, -0.02113351, -0.019186873, 0.010520422, -0.031394918, 0.01571128, 0.043253575, 0.0046820245, 0.0059646326, 0.015026175, 0.058076188, -0.05365277, -0.02821649, -0.013825765, 0.03463538, -0.027717814, -0.035358522, 0.012199645, 0.06490614, 0.013624432, 0.0018727316, 0.018387103, -0.036604572, 0.0041948347, 0.020875452, 0.017589867, -0.01822511, 0.053228695, 0.008103982, -0.05204615, -0.041584097, -0.025909528, -0.05273415, 0.03452427, 0.03342135, -0.030186113, -0.030759972, 0.02318692, 0.0028185206, 0.022217939, -0.000115663184, -0.03860078, 0.010488626, -0.01986328, 0.023121126, -0.07939972, 0.05551869, 0.014566162, -0.04737668, -0.027831415, -0.03159115, 0.00652795, -0.013972573, 0.02466574, 0.03418318, 0.058283094, -0.023003642, -0.05586183, 0.02896422, -0.025333514, -0.07364494, 0.058233347, 0.016837465, 0.0047669965, -0.002727383, 0.030829381, 0.014179534, 0.05352292, -0.031991124, -0.007898223, -0.048677616, 0.0069530997, 0.006117406, -0.031387925, -0.015037248, -0.016070053, 0.033950526, 0.062367536, 0.083441675, -0.017561803, -0.042591777, 0.05778433, -0.032717615, 0.024006372, 0.019759413, 0.00066089723, 0.028906846, 0.023742864, -0.05729943, 0.05526162, -0.017394328, 0.001437665, -0.023866761, -0.033806343, 0.016119668, -0.03908941, -0.034200996, 0.008180614, -0.013694675, 0.013645077, -0.058211133, -0.025677005, -0.051977254, 0.007427374, 0.0062875324, -0.05319075, -0.02455178, 0.028176565, -0.017391996, 0.014317748, -0.029733088, 0.0067220316, -0.033456493, 0.031096118, 0.0062680766, 0.027838679, -0.04120161, -0.016989931, 0.0071815806, -0.00588161, 0.033680297, 0.04283567, 0.06374167, 0.021755228, -0.057773203, -0.003550244, -0.03765366, -0.03643254, -0.014606616, 0.036536675, 0.02170521, 0.045953505, 0.0035178578, -0.036313605, 0.015620798, -0.028865902, -0.053575028, -0.0006909038, -0.03266268, -0.048943684, 0.03097052, -0.029273693, 0.055018187, 0.0058207405, -0.027636956, 0.054261524, -0.041855805, 0.027324596, -0.008220957, -0.009304457, -0.01654172, -0.007202169, 0.018564302, 0.003698232, -0.06798263, 0.022687158, 0.01632923, -0.054540746, 0.033355705, 0.0045806984, 0.107011676, 0.011682861, -0.025752887, 0.0031597682, -0.05018739, 0.07220024, 0.034474157, -0.0328128, -0.05780437, 0.0057392963, -0.052639566, -0.049025383, 0.012823623, 0.03690207, -0.039678324, 0.02136985, 0.033519603, -0.024553284, -0.01817033, -0.021144422, -0.03448018, -0.006695173, 0.028045287, 0.017745001, -0.027447453, -0.055892758, -0.023832515, 0.026605796, 0.009009668, -0.04583807, 0.07124279, -0.007591956, -0.023524106, 0.015733687, 0.025099918, 0.01298967, -0.018017236, 0.026725087, -0.009329657, -0.042503554, -0.038226716, -0.024414139, 0.03798047, -0.038920864]"
        ],
        [
         "1",
         "Phở Việt Nam",
         "Nổi tiếng với hương vị đậm đà và hương thơm của gia vị tự nhiên. mỗi tô phở được chế biến từ nước dùng thơm ngon, kết hợp với sợi bún mềm mại và các loại thịt hoặc hải sản tươi ngon.",
         "bún phở, thịt bò, thịt gà, hành tây, hành phi, rau sống, giá đỗ, ớt",
         "Thịt bò có thể chọn giữa tái và chín.",
         "[-0.015033179, 0.04973999, -0.0054149763, -0.03903627, 0.0020435557, 0.017791037, -0.017861743, -0.009752467, -0.0011820052, 0.010005514, -0.0055360785, 0.06506537, 0.049234785, 0.015869575, 0.0009968678, -0.07908618, -0.01528035, -0.027221292, -0.08760628, 0.029611269, 0.03594187, 0.020314438, 0.042808358, 0.02248599, -0.06301238, -0.05907045, -0.028252963, 0.013518651, 0.0027192235, -0.083684824, 0.03615094, 0.066316836, 0.0055109574, 0.019989252, 0.014203337, 0.045146592, 0.012875051, 0.010173263, 0.0069817468, -0.07977645, -0.015189547, 0.012443599, 0.027901694, 0.02233215, -0.02634023, -0.027850328, 0.0142824985, 0.07804056, -0.045428135, 0.0040521175, 0.037461486, 0.004222304, -0.03692502, 0.064051315, -0.0017188458, -0.02453513, -0.030040171, -0.018558959, 0.023078019, 0.019915696, -0.012051984, -0.017402798, -0.06766473, -0.015495721, -0.007903, -0.004072228, -0.006751752, -0.037502427, -0.039228253, -0.006908205, -0.0415841, 0.0021922223, -0.056703802, 0.0025942947, 0.059821628, -0.022384243, 0.008621355, -0.02484452, -0.021700408, 0.052392673, -0.044908926, 0.034755636, 0.08334382, 0.03598822, 0.0068526124, -0.016069844, -0.0018586564, -0.02890076, -0.039520986, 0.021103801, 0.028694525, -0.018906645, 0.00064230635, -0.023535855, 0.072005734, -0.0063492013, -0.11347516, -0.059025135, 0.07658309, 0.031751107, 0.013172876, 0.0061104055, -0.005332153, -0.098828435, 0.003810529, 0.012578232, 0.01771902, 0.003773677, -0.03746387, -0.018675514, -0.05706684, -0.055099472, -0.014783347, 0.038769223, 0.0061536403, -0.012903737, -0.016667638, 0.007523792, -0.07148942, 0.019760037, -0.02476162, 0.015224222, -0.023506176, 0.06362271, 0.019509971, -0.008780254, -0.010629464, -0.05551159, -0.03934707, -0.042152725, 0.050502043, -0.091616586, -0.05959352, 0.037947863, -0.015263055, -0.025106518, 0.027627036, -0.04342314, 0.022592474, 0.049607217, -0.004682408, -0.06521394, -0.030507268, 0.024836292, -0.0265393, -0.051656228, -0.0004734821, 0.018921075, -0.016800368, -0.029952815, -0.020667907, 0.005939869, 0.015583496, -0.012228867, 0.008242164, 0.030420512, 0.024585344, -0.031193506, 0.05207538, 0.025313959, 0.020048084, -0.013398839, 0.052092567, 0.017260252, -0.04576101, -0.025328176, 0.003993446, -0.07182843, 0.026635338, 0.012635227, 0.026528677, -0.047650184, -0.0013886199, -0.11892284, 0.012245995, -0.04261148, -0.03055743, -0.021049358, 0.025275107, 0.006772104, 0.076304816, 0.03223493, -0.046489425, -0.048792362, 0.038094573, -0.042665068, 0.026170647, 0.0052294037, 0.043445256, 0.043330636, -0.0101945335, 0.040714446, 0.012974578, 0.020469243, -0.02506818, -0.04221001, 0.031692334, 0.003671011, 0.015276436, -0.0017645374, 0.009377594, -0.038469136, -0.029304842, -0.08883398, -0.024511315, 0.0425453, -0.026272492, -0.035673726, 0.042906445, 4.0172756e-05, -0.022602623, 0.02395917, -0.0033126376, -0.0041322033, -0.023708904, -0.01750915, 0.036933433, 0.02316804, 0.04071573, -0.029850587, -0.0035190647, 0.020564435, 0.059588328, 0.018575784, -0.005079339, 0.021931065, -0.034260973, -0.020526092, 0.028016832, -0.055755716, -0.022380626, 0.02388852, 0.009079309, 0.066905454, -0.008364834, 0.033273455, 0.024992945, -0.06372334, 0.022556724, 0.007647668, 0.015381971, 0.044625413, 0.06228793, 0.046189785, 0.013663385, -0.053807326, 0.04079954, 0.061427016, -0.009823881, -0.05806006, 0.028646322, -0.057396334, 0.07106329, -0.059844628, -0.06404332, -0.0198267, 0.01931179, 0.036318563, -0.04832149, 0.0027355785, 0.05562509, -0.0256738, 0.008706606, -0.107082985, -0.029189344, -0.043124206, 0.013059228, -0.018351119, 0.033825878, 0.00931855, -0.0022905055, -0.09537424, -0.068737544, 0.007485745, 0.0018981711, 0.006545633, 0.0021917264, 0.027592469, 0.0003283745, -0.05866555, 0.022016881, 0.021151425, -0.029660026, 0.011599497, 0.047437727, -0.0254421, 0.014827085, 0.00411983, -0.05617608, 0.025353933, 0.032041978, -0.0010285762, -0.00062878104, -0.043325372, 0.03856732, 0.02001974, 0.012431438, -0.009637962, -0.023217935, 0.0023334073, -0.008101319, 0.05264958, -0.022412153, -0.003962614, -0.011088219, -0.018501757, -0.025662925, -0.013707455, 0.02055258, 0.016522724, -0.0006572997, 0.07438808, -0.122672476, -0.029626464, -0.066859595, 0.0051541566, -0.16719621, 0.003668057, 0.0010426365, -0.014491124, 0.027368296, 0.024079148, 0.006704854, 0.060596574, 0.016567817, 0.0012982121, 0.020706547, -0.033526655, -0.025614137, -0.0149189215, 0.04484406, -0.05287305, -0.03613165, -0.021017572, -0.0044278298, 0.028016174, -0.074276336, 0.0091265235, 0.052372877, 0.04603831, 0.020926436, 0.030153906, 0.0054676128, 0.038383115, -0.035561003, -0.036384936, -0.014696061, 0.0053386576, -0.004834615, 0.06044542, 0.03657575, 0.10601906, 0.025406858, -0.034568276, -0.02723622, 0.0133086, 0.04450134, -0.016988188, 0.026108826, -0.009967395, 0.016755799, -0.030146766, 0.01326235, 0.006284588, 0.02433976, -0.014357299, 0.056723375, 0.040335968, -0.02941161, -0.030791316, -0.0012216311, -0.01952424, -0.02552741, 0.024988843, -0.008210032, -0.015439321, -0.007907907, 0.009978048, 0.011032513, -0.021691196, -0.0047646393, -0.05449427, 0.0283445, 0.032146975, 0.0026946852, 0.0436028, -0.04069356, -0.019217713, -0.004433704, 0.020345815, -0.026855849, -0.007640903, 0.012241507, 0.013552935, -0.014571701, 0.03448777, -0.020179467, 0.01030072, 0.003165585, 0.03289836, 0.051788617, -0.030031439, 0.090498224, -0.04447202, 0.033881497, -0.009603539, 0.028889434, -0.016600143, 0.018621512, 0.021914626, -0.025706198, 0.012086685, 0.0034137452, 0.024111427, -0.04826297, -0.0118759675, -0.012812558, -0.016765172, 0.03497032, -0.0063963006, -0.05204664, 0.074010104, 0.053030312, 0.04157255, 0.011009421, -0.06819056, 0.0070559764, 0.04118709, -0.020840699, -0.0046556653, 0.05754899, 0.080875486, -0.046260595, 0.035963204, 0.038233604, 0.0056517986, 0.0375155, -0.0020097655, -0.030051978, -0.010851243, 0.027523166, -0.01281328, 0.039707024, 0.013756734, -0.028843, 0.010424147, 0.0923671, 0.021314528, -0.027040418, -0.0108563965, -0.002296128, 0.010027388, 0.0135327345, -0.019259406, -0.068517335, -0.019999849, 0.023645142, 0.084793165, 0.0062534916, 0.048585556, -0.029138105, -0.006643704, 0.00793724, -0.024641842, 0.020180099, -0.0029389358, -0.0023841981, -0.020580003, -0.06193785, -0.02238678, 0.06350274, -0.03618925, 0.04626658, 0.006962827, -0.012228478, -0.0106296195, -0.0039628516, 0.034495756, -0.04380306, 0.029340787, -0.026889566, 0.012693289, -0.0064046527, 0.02064382, 0.039682664, -0.023787322, 0.020263666, -0.016042657, 0.019460004, 0.0729805, -0.00560329, 0.07933908, -0.0058164806, -0.06677301, -0.014224036, 0.015337326, 0.010709829, -0.0013765165, -0.05812213, 0.03253815, 0.10576921, -0.02372856, -0.046448894, -0.06726061, -0.050546817, -0.033998918, -0.012915307, -0.01572317, 0.02429909, -0.008642705, 0.007823848, -0.034561783, 0.0025538185, 0.032587733, -0.0043834355, 0.038700927, -0.040894404, 0.027211824, -0.05148404, 0.036952067, 0.08670792, -0.05666533, 0.023416435, -0.009117412, 0.010788531, 0.027205382, -0.01913558, 0.042111613, 0.01094173, -0.012785885, -0.031847812, -0.012200228, 0.02902827, 0.015756484, -0.064448535, 0.06850466, 0.036356606, -0.035082493, 0.0288291, -0.0104468195, 0.013015806, 0.0064082528, -0.028462682, 0.03561822, 0.033459064, 0.013865628, -0.00866357, 0.0793117, -0.021106785, 0.054791633, -0.009261662, -0.00088086404, -0.04632031, 0.024715105, -0.0054611145, -0.014800543, 0.06342106, -0.064474896, -0.048162453, -0.037833318, -0.027148103, 0.0073228977, 0.039048817, -0.01837099, 0.001991533, -0.03378521, -0.018907685, 0.006430306, -0.03280716, 0.03822228, 0.036708258, 0.010287956, 0.0110941725, 0.029082024, 0.038280193, -0.06547882, -0.01996053, 0.0026171496, 0.05912805, -0.015606964, -0.038795974, 0.014502957, 0.028416893, 0.021827472, 0.03259769, 0.0007196148, -0.04073743, -0.011741259, 0.01932006, -0.0016693237, -0.0059249722, 0.05179744, 0.0039433273, -0.065074906, -0.020116948, -0.018265242, -0.031538464, 0.0009694813, 0.021867445, -0.002125313, -0.015421357, 0.02968129, 0.017581621, 0.0046586464, 0.009786006, -0.057012185, 0.0103601385, -0.030491807, 0.049607683, -0.04415409, 0.041014865, -0.00835143, -0.047846604, -0.026341256, -0.01501309, -0.06547211, 0.018942302, 0.023807673, 0.02861589, 0.04157387, 0.011068323, -0.039008435, 0.031217657, -0.007911445, -0.081051074, 0.029088171, 0.001972865, 0.014328931, -0.018563922, 0.02857525, 0.043425255, 0.0418066, -0.029195622, -0.015879475, -0.047291003, 0.02784107, 0.0074403896, -0.044553567, -0.0019259481, -0.013297515, 0.008920347, 0.038851067, 0.07507336, 0.014511468, -0.034547236, 0.045217957, -0.035896707, 0.017904062, 0.03171827, 0.042800225, -0.0073174792, -0.0016932169, -0.04458694, 0.04291625, -0.018018654, 0.042732973, 0.019913256, -0.013621165, 0.00012381398, -0.0013760871, -0.008653057, 0.014339477, -0.04897354, -0.00010750452, -0.024975076, -0.004522419, -0.035942815, 0.008823956, 0.033960387, -0.03303421, -0.00430133, 0.00077238085, -0.012052238, 0.0041317153, -0.020053431, 0.04368348, -0.0051656966, 0.037717655, 0.005854401, 0.019280536, -0.016098553, -0.020230325, 0.0014064094, -0.026809996, 0.019557403, 0.00013677751, 0.047352597, -0.00599012, -0.05789552, 0.043281265, -0.004292564, -0.013816276, -0.011330446, 0.0352283, -0.0061408295, 0.050277248, -0.020908637, -0.028720567, -0.017899074, -0.015475226, -0.058085363, 0.023894615, -0.022320118, -0.07704794, 0.033776093, -0.07189892, 0.046134274, 0.03519214, -0.044601772, 0.039033245, -0.03175852, 0.006313767, -0.022495927, 0.004619735, -0.019987658, 0.00485034, 0.028674603, 0.0073455204, -0.055546463, 0.029878827, 0.027089963, -0.06972295, -0.0060679787, 0.021083755, 0.08695081, 0.0007593774, -0.019990634, 0.0014960893, -0.022563562, 0.026536481, 0.01828462, -0.034779485, -0.056373663, 0.04798724, -0.06776746, -0.021904178, 0.005592431, -0.007907964, -0.04261894, 0.011977512, 0.0024745532, -0.030072074, -0.030822169, -0.046034645, -0.022668738, 0.0043442464, 0.050888296, 0.0033874963, -0.016819118, -0.045582578, -0.02369164, 0.0016037249, 0.021083351, -0.025419667, 0.028349625, -0.018893665, -0.03056482, 0.011663641, 0.016319893, 0.06094344, -0.0061497213, 0.034807593, -0.007825616, -0.012929843, -0.06487895, 0.010849531, 0.028281435, -0.031021181]"
        ],
        [
         "2",
         "Cơm Tấm",
         "Cơm tấm là một món ăn đường phố phổ biến trong ẩm Việt Nam. Mỗi đĩa cơm tấm thường bao gồm cơm nấu từ gạo tấm, kết hợp với các thịt heo nướng, trứng hấp, chả, dưa leo và nước mắm.",
         "gạo tấm, thịt heo, trứng, chả, dưa leo, nước mắm chua ngọt",
         "Cơm tấm thường được ăn vào bữa trưa hoặc bữa tối và dùng kèm với nước mắm chua ngọt.",
         "[0.009709443, 0.078435704, -0.027416762, -0.042130932, 0.011699529, 0.038973205, 0.016286759, -0.019135918, 0.016484639, 0.0077956156, -0.026799234, 0.06577841, 0.015886107, 0.017588403, 0.031726416, -0.07441956, 0.0027879735, -0.001391785, -0.083841294, 0.008624891, 0.03598588, -0.011471603, 0.084710404, 0.023928685, -0.060340818, -0.043510374, 0.017275719, 0.024488688, 0.03823226, -0.051432505, 0.045042366, 0.052617785, 0.025665997, -0.012364374, 0.029818607, 0.011960717, 0.01928372, 0.042106826, 0.012027323, -0.054914232, -0.004700836, 0.009022356, 0.028121762, 0.0073278057, -0.007950164, -0.040554244, 0.03721998, 0.06864647, -0.05517212, 0.0095465705, 0.030398747, 0.021252582, -0.028979497, 0.07255137, -0.018355524, -0.033323795, -0.021032883, -0.020157961, 0.0051762247, 0.016420064, -0.021199143, -0.022224333, -0.015527677, -0.0418777, -0.05059162, 0.03804976, -0.01926969, -0.050261192, -0.049733367, -0.039371785, -0.07014213, -0.016644467, -0.049393896, 0.0155027425, 0.08999152, -0.048675112, -0.011779265, 0.0024486738, -0.022654282, 0.04527066, -0.042244148, 0.02409897, 0.11427525, 0.07498833, 0.03633884, -0.020974731, 0.010217221, -0.00930237, -0.029712483, 0.037760638, 0.0068839267, 0.0021226099, -0.044228077, -0.040074978, 0.051728204, -0.045017883, -0.13832474, -0.054483794, 0.10854062, 0.004608541, -0.015664171, 0.044020977, 0.0014562762, -0.076269284, 0.031174853, 0.029202174, 0.011282617, -0.0050108694, -0.042480867, -0.07250936, -0.02478754, -0.050114874, 0.05050092, 0.00015662673, 0.009906445, 0.0053378055, 0.022244366, -0.014785777, -0.054112032, -0.017862573, -0.040272094, -0.021718713, -0.005288087, 0.07226933, 0.028369203, 0.0032050847, -0.026724173, -0.062142257, -0.04401441, -0.022612702, -0.008664243, -0.12953854, -0.034775797, 0.029952576, -0.026732817, 0.00997135, 0.005309819, -0.040394545, 0.030847726, 0.047714736, -0.000169914, -0.04217759, -0.040072553, 0.0036261058, -0.06424651, -0.039618313, 0.003542516, 0.026801463, -0.04533269, -0.04708482, -0.021982135, 0.0057194694, -0.02465227, -0.00090362923, -0.0067997016, 0.008212954, 0.032966822, -0.034799967, 0.023658153, 0.020687269, 0.00045699294, 0.02731793, 0.03391138, 0.011166294, -0.050001558, -0.025167879, 0.019971529, -0.03931639, 0.00894879, 0.029535133, 0.022499353, -0.07190618, 0.017261805, -0.08401102, 0.0059714136, -0.035424322, -0.027163012, 0.019100416, 0.024827514, 0.009401977, 0.041923974, 0.026496286, -0.010935589, -0.0510466, 0.03587186, -0.0155957425, 0.04812336, 0.039525658, 0.026936553, -0.0001909678, -0.021738837, 0.051506285, 0.00083393225, 0.011164938, -0.016846493, -0.043698132, 0.044429988, 0.009608224, -0.027979383, 0.023571396, 0.03909256, -0.06231632, -0.031826507, -0.04114604, -0.05249244, 0.054636117, -0.029874638, -0.04912579, 0.03026873, 0.003921387, -0.00791396, 0.06223644, 0.0125005515, -0.041863784, -0.017717825, -0.013912654, 0.014612355, -0.0019333164, 0.03499128, -0.052003354, -0.00062502583, 0.017459344, 0.064537644, -0.0049271802, -0.039336715, 0.013622813, -0.018607765, -0.051920786, 0.04674717, -0.05649968, -0.007016813, 0.029182458, 0.014645342, 0.06601768, 0.009099204, -0.006798373, -0.014083938, -0.03406441, 0.01729978, -0.010246019, 0.03182376, 0.027056294, 0.06847993, 0.060371175, 0.00926447, -0.023098907, 0.03647649, 0.04462773, 0.01576375, -0.07412826, 0.035987776, -0.017701196, 0.08318342, -0.03826627, -0.05052506, -0.04857177, 0.0027473143, -0.005972948, -0.06645906, 0.010969065, 0.020973656, -0.008556115, -0.033418994, -0.075347364, -0.019717883, -0.06115085, 0.0053283395, -0.026114613, 0.07851219, 0.015393992, -0.024261415, -0.06423923, -0.05369187, 0.007189255, 0.0019739254, -0.010244623, 0.0061689625, 0.013254097, -0.0069432566, -0.048742756, 0.05556802, 0.0039161304, -0.04583373, 0.042197138, 0.024831625, -0.012894293, -0.0048173415, 0.027583405, -0.09786923, 0.009431531, 0.03825786, 0.015468204, 0.011708084, -0.048828937, 0.047878373, -0.002925656, 0.044723693, 0.035051238, -0.008909934, 0.0027976094, 0.009895561, 0.044224937, -0.020572009, -0.03220254, 0.021386888, -0.014550345, 0.020355387, -0.021996763, 0.010868096, 0.034169488, -0.009988917, 0.06271782, -0.1069471, -0.060583748, -0.04141625, -0.0020554394, -0.111499645, 0.023385063, -0.010635375, 0.0048836004, 0.044319037, 0.024458893, -0.008182726, 0.024356246, 0.018216806, 0.004960674, 0.012955319, -0.020593043, 0.012325151, -0.016963778, 0.054337405, -0.050487753, -0.043830585, -0.022948235, -0.0060927058, 0.035388343, -0.07220134, 0.04398227, 0.030192167, 0.036964666, 0.031048972, 0.013885864, 0.015907539, 0.05300785, -0.019852057, -0.033652462, 0.031503763, 0.04493151, 0.012834782, 0.056699827, 0.053097714, 0.117527306, 0.039263476, -0.0209905, -0.012714319, -0.022198536, 0.03535784, -0.03239869, 0.0056595937, -0.017379906, -0.0029090166, -0.034236263, 0.015514497, 0.006605259, 0.036579978, -0.004306973, 0.057498343, 0.044169873, 0.000491804, -0.010170977, -0.0020662034, 0.025334353, 0.0236786, -0.0067217303, 0.01672898, 0.01911977, -0.026336871, 0.02035596, 0.021302512, -0.0030509338, -0.042285565, -0.02274669, 0.019199869, -0.0008425595, -0.0017899304, 0.05292556, -0.036416437, -0.011140537, -0.017343946, 0.002335369, -0.019785073, -0.021758435, -0.0011529108, 0.043199513, -0.008120334, 0.03872508, -0.01874635, 0.015911512, 0.021113457, 0.04070274, 0.037648987, -0.043066707, 0.07825456, -0.03677817, 0.027474932, -0.002521182, 0.0345271, 0.01288405, 0.017865399, 0.02669476, -0.027751248, 0.017714744, -0.011815879, 0.0010246973, -0.038402535, -0.020540336, 0.02771803, -0.0269986, 0.04535552, 0.003932982, -0.04565311, 0.049831472, 0.03625689, 0.022403408, 5.88125e-05, -0.06156021, 0.01980265, 0.03908286, -0.029478453, -0.00918652, 0.042765, 0.047666878, -0.03425286, 0.041416306, 0.03288108, -0.021750849, 0.011764901, 0.036637668, 0.03122599, 0.003872365, 0.020802412, -0.029080164, -0.008782233, 0.0067583546, -0.033142265, 0.016590603, 0.096381895, 0.015080897, -0.0050948034, 0.0026893038, -0.009727464, 0.005724395, 0.016512003, -0.022433046, -0.06111003, -0.0011271716, 0.031177752, 0.061789714, 0.001699291, 0.04967643, 0.00265033, -0.054410845, 0.011279576, -0.049681474, -0.0019111814, -0.013022199, -0.01351858, -0.005587702, -0.05058059, -0.012420764, 0.08480672, -0.028126583, 0.01760412, -0.022106513, -0.04030762, -0.0006681774, -0.015559585, 0.056436248, -0.027068371, 0.040370766, -0.028960936, 0.032528155, 0.004843828, 0.00261734, 0.054482937, 0.014061659, 0.0009681083, -0.007100958, 0.01840804, 0.038068365, -0.028702572, 0.07821733, 0.034665342, -0.042665888, -0.032280248, 0.016361121, 0.001274908, 0.0019034353, -0.084718175, 0.042193513, 0.09151184, -0.0055291243, 0.0006027968, -0.038927756, -0.014873802, -0.00225287, 0.0033478055, -0.049822308, 0.022175828, -0.0228776, -0.0070254793, -0.042838626, 0.006250064, 0.055574596, 0.0135574965, 0.029976234, -0.032470487, 0.028014064, -0.012793992, 0.00715988, 0.074687436, -0.0070850467, 0.05006388, 0.0014770788, -0.010179772, 0.020288637, -0.008444155, 0.01098439, 0.0324788, -0.020280179, -0.04699899, -0.040427558, 0.028502332, 0.012960396, -0.056016307, 0.07408794, 0.038014293, -0.066799216, 0.0065870224, 0.0059460984, 0.0001395271, 0.049783245, -0.018003408, 0.022957625, 0.040218197, 0.013565866, 0.031665687, 0.03416798, -0.0037166206, 0.054326665, -0.03159375, 0.0045039053, -0.037289325, 0.011307683, -0.0033202518, 0.01763414, 0.04149413, -0.049896304, -0.06481778, -0.019064097, -0.0032956933, 0.025055297, 0.04726292, 0.004349793, 0.03411576, -0.014598083, -0.012927344, 0.018729502, 0.02135744, 0.038370684, 0.040935382, 0.033794876, -0.010628787, 0.01143733, 0.06907327, -0.07369373, -0.003327292, 0.012905489, 0.042006757, -0.042874966, -0.02692361, 0.0070235203, 0.034677994, 0.012629528, 0.0027187292, -0.022859957, -0.04883452, -0.012411768, -0.024882536, 0.033323318, 0.031763032, 0.07900847, 0.013183219, -0.05098492, -0.040421646, -0.016376927, -0.004141173, 0.035608232, 0.038276598, 0.0029194108, -0.025562538, 0.04144103, -0.010855085, 0.022691106, 0.04216544, -0.048502326, 0.02097743, -0.009830088, 0.01399147, -0.038218204, 0.00550248, -0.030047199, -0.046902273, -0.038712583, -0.0012989184, -0.057962228, -0.006134555, -0.0010684847, 0.04786397, 0.08411128, 0.0031225192, -0.011298534, 0.028176716, -0.03931356, -0.10165788, 0.029988004, -0.013195764, -0.0012995587, -0.034038953, 0.031537756, 0.01496011, 0.02309331, -0.027715648, -0.012153796, -0.06882321, 0.034896936, 0.0030550198, -0.05217568, -0.00090188126, -0.0012880317, -0.032111082, 0.049491465, 0.068706125, -0.0020184244, -0.027101215, 0.07259046, 0.0036082373, 0.0069723674, 0.020949187, 0.025029322, 0.010505427, -0.0027491043, -0.017730277, 0.031438977, 0.015919706, 0.048532054, 0.0070011104, -0.039999172, 0.013298936, -0.03144277, -0.033946134, -0.016684126, -0.056849994, 0.005790843, -0.052820552, -0.017283818, -0.052295737, -0.025105178, 0.029022247, -0.044830285, -0.00311453, 0.059917394, -0.022348007, -0.020739868, -0.005998476, 0.015619159, 0.008364139, 0.013223452, -0.0013659337, 0.0047602663, 0.011509733, -0.032338362, -0.0015956524, 0.007309784, 0.005867123, -0.00048012103, 0.042369865, 0.035699967, -0.025351128, 0.009858525, -0.016213194, 0.0048124203, -0.001741882, 0.030218909, 0.005769047, 0.02973049, 0.0016800942, -0.009825294, -0.02015908, -0.027252786, -0.06338564, 0.009310957, -0.034776002, -0.03795318, -0.007911356, -0.046273354, 0.05751902, 0.047386542, -0.050605536, -0.0068126414, -0.06211828, 0.006556668, -0.03883654, -0.010678304, -0.029583, 0.021318065, -0.019520687, 0.01015639, -0.04774753, 0.045056444, -0.00021177516, -0.05736798, -0.009336994, 0.01514306, 0.092835225, -0.0013568265, -0.010954224, 0.011960361, -0.04002845, 0.029958488, 0.040583108, 0.008734899, -0.059335407, 0.029876083, -0.03180323, -0.017562402, 0.019582054, 0.02261823, -0.025068099, 0.028111296, 0.0076997452, -0.004304638, 0.017973386, -0.0057231975, -0.02627831, 0.008135687, 0.016519884, -0.004000589, -0.034720335, -0.035770927, -0.033850837, 0.04218223, 0.012417076, -0.041562643, 0.046780743, -0.009956193, -0.012361135, -0.008217675, 0.03386098, 0.0099120075, -0.036848307, 0.0029838097, 0.01394898, -0.02236459, -0.032738965, -0.022771716, 0.004269589, -0.03036269]"
        ],
        [
         "3",
         "Bún Bò",
         "Bún bò là một món ăn đặc trưng của ẩm thực miền Trung Việt Nam, nổi tiếng với hương vị đậm đà và phong phú. Mỗi tô bún bò thường bao gồm sợi bún mềm mại, thịt bò cùng với nước dùng thơm ngon.",
         "bún, thịt bò, hành tây, hành tím, rau sống",
         "Thịt bò có thể chọn giữa tái, nạm, bắp bò, giò heo.",
         "[-0.0042047882, 0.059224624, -0.000562346, -0.023348244, 0.011198817, 0.0051007476, 0.02587222, -0.017458541, -0.014226352, 0.016358018, -0.038276415, 0.058085203, 0.036593024, 0.028902357, 0.008830884, -0.06046153, 0.021656115, 0.011281891, -0.077683225, 0.0073319385, 0.026844427, 0.037257385, 0.08694587, -0.0070693437, -0.045129962, -0.03737176, -0.013356357, 0.020476766, 0.0101891635, -0.067649424, 0.026995176, 0.050698906, -0.0104261935, 0.01496779, 0.03395995, 0.016615203, 0.014102858, 0.03565358, 0.047412183, -0.050728306, -0.022813074, 0.029612055, 0.03471709, 0.026891407, -0.00602972, -0.015854826, 0.025816765, 0.056248393, -0.04383766, 0.038975794, 0.0007555556, 0.022243308, -0.014378907, 0.063671716, -0.0322541, -0.017775055, -0.029907582, -0.02635858, -0.018848868, 0.02119825, -0.029753966, -0.03973262, -0.047998738, -0.012226196, -0.04514054, -0.009069244, -0.01864947, -0.031263307, -0.04843838, -0.012472634, -0.08985267, -0.014746753, -0.042354215, 0.040493023, 0.07161921, -0.038861945, 0.003945672, -0.0051396494, -0.026021512, 0.04474909, -0.026797589, -0.0019604783, 0.07616335, 0.069159605, 0.03882043, -0.024987629, 0.0050128405, -0.021534668, -0.039355785, 0.07847248, 0.027063409, 0.05708612, -0.016796216, -0.032441568, 0.035875656, -0.072516225, -0.124835, -0.07027557, 0.14165595, 0.0173188, 0.00936257, 0.018230416, 0.012592925, -0.037264988, 0.028993774, 0.014567427, 0.012336872, 0.031147748, -0.017194502, -0.019911323, -0.02851905, -0.051447872, 0.01228507, 0.01608958, 0.040025063, 0.017431216, -0.00062877295, 0.009407918, -0.07289654, -0.018629674, -0.02676758, -0.035999317, 0.0090101315, 0.042686537, 0.044292044, 0.019200698, -0.011169424, -0.058917146, -0.019103412, -0.04921882, 0.029060174, -0.112558074, -0.038194723, 0.051348306, -0.016232235, 0.007833004, 0.012813212, -0.03123672, 0.048242215, 0.09026981, -0.0028327866, 0.0021568616, -0.06666162, -0.008353917, -0.00603024, -0.026029915, -0.015694024, 0.020711506, -0.03194103, -0.029366838, -0.042954925, 0.021456948, -0.016790422, -0.029070087, 0.008592122, -0.000276847, 0.031001853, -0.013213237, 0.05881416, 0.05773991, -0.00417614, 0.01782352, 0.031428397, 0.03481077, -0.0027842734, -0.023465503, 0.008626966, -0.03184123, -0.007732007, 0.02949436, 0.038076244, -0.08279305, -0.010311156, -0.098045476, 0.02269366, -0.020698806, -0.011462713, 0.0077157947, 0.027411519, 0.030636631, 0.07696346, 0.025684282, -0.039090917, -0.06601722, 0.03625098, -0.037724704, 0.0059762644, 0.014071019, 0.040828988, 0.026679885, -0.016168298, 0.06978436, 0.038322404, 0.00584608, -0.009552002, -0.04727863, 0.04100962, 0.004844334, 0.0015087862, 0.044891577, -0.0076574343, -0.036646478, -0.02301636, -0.04686477, -0.03638439, 0.051413853, -0.004599049, -0.03729924, 0.020327488, 0.005753745, 0.0073571336, 0.015407864, -0.017655002, -0.007368699, 0.003971512, -0.033933092, 0.03717734, -0.02715696, 0.015362725, -0.05111662, 0.024680827, 0.02652033, 0.026088806, 0.03353406, -0.027001183, -0.009052199, -0.025048736, -0.052881427, 0.023860974, -0.055528473, 0.0012358865, 0.03859426, -0.004251701, 0.081254214, 0.017780647, 0.010561805, 0.0405261, -0.02773895, 0.03651788, -0.02847215, 0.017569292, 0.026257193, 0.03892436, 0.05250289, -0.000120973455, -0.012190238, 0.025812054, 0.079753086, 0.039153885, -0.07457236, 0.047745157, -0.0012219587, 0.07590811, -0.038349893, -0.05558271, -0.046620917, 0.0066674426, 0.020596858, -0.050183855, -0.015751433, 0.04175611, -0.00925936, -0.056457944, -0.077841856, -0.045590576, -0.054451507, 0.013934055, -0.027889986, 0.031726878, -0.005914428, 0.018269636, -0.06630801, -0.04585009, 0.015021118, 0.0060577975, -0.0040735863, -0.001914227, 0.014958032, 0.02910697, -0.051571697, 0.03895346, 0.037976217, -0.051137246, 0.05358035, 0.027359685, -0.0149002, -0.001590821, 0.025790099, -0.025133125, 0.04362591, 0.051562108, 0.025402226, -0.002780341, 0.011781254, 0.0203323, 0.019160762, 0.061288286, 0.0071637756, 0.00045490326, -0.022336623, 0.024110273, 0.079948165, 0.014005606, -0.027974317, -0.009278275, -0.0075468523, -0.017288035, 0.01643291, 0.024827559, 0.037133787, 0.006349945, 0.053127885, -0.12261558, -0.023159612, -0.068631664, -0.015480688, -0.109692216, -0.006255553, -0.016882539, -0.009321311, 0.04120705, 0.07786568, -0.026157869, 0.0362439, 0.03074648, 0.0140032545, 0.006795766, -0.024574261, 0.0076571708, -0.028375538, 0.041966308, -0.061729975, -0.08067191, -0.013456768, -0.010908159, 0.05089081, -0.090593554, 0.035049587, 0.024669928, 0.020122956, 0.035825744, 0.009247981, 0.04070915, 0.02468777, -0.016296797, -0.060452603, 0.019466678, 0.018868359, -0.007306662, 0.020421032, 0.03792459, 0.09854148, 0.046172466, -0.034736536, -0.004246202, 0.0047737183, 0.05167868, -0.039362587, -0.018356012, -0.010153517, 0.04537292, -0.042272698, 0.010197252, 0.01805025, 0.019112762, -0.013269288, 0.035557076, 0.051621743, -0.0005697294, -0.029259088, 0.031564705, -0.0016364342, 0.02667482, -0.006959234, 0.0028826883, 0.017449139, -0.010832501, 0.03175961, 0.039766464, 0.004728477, -0.0015163998, 0.008063976, 0.030906653, 0.03047268, -0.019742757, 0.029901264, -0.043307226, -0.040024478, -0.0069205887, 0.0070868214, -0.035974856, -0.036935095, 0.04053507, 0.018106164, -0.022608703, 0.04699268, -0.002786705, 0.022715278, 0.0018596132, 0.039510116, 0.036751132, -0.010228157, 0.0625577, -0.039143216, 0.029564183, -0.024099598, 0.019469, 0.008241722, 0.03777543, 0.005229676, -0.044834904, 0.021459997, -0.0481028, 0.0031664548, -0.059525844, -0.026304737, -0.0006686466, -0.02896865, 0.043738414, 0.003094492, -0.06738195, 0.08555747, 0.028264653, 0.054738183, -0.00031682887, -0.042664263, 0.009917446, 0.014468622, -0.04553958, 0.00063480774, 0.06546247, 0.063842155, -0.0064110844, 0.008673988, 0.05081339, 0.0086047305, 0.034796074, 0.020210974, -0.00439764, 0.020415999, 0.0052891555, 0.009553705, 0.025157776, 0.016552508, -0.039980344, -0.016116144, 0.071797244, -0.024304459, -0.008483421, -0.02002737, 0.008916348, 0.021350196, 0.009849903, -0.0012313316, -0.08547274, -0.025997937, 0.047127932, 0.086837865, 0.0026773838, 0.04478374, -0.028008347, -0.014297547, 0.03084574, -0.0413117, -0.005828227, -0.019115116, -0.01557791, -0.009118113, -0.056684267, -0.026868312, 0.075232066, -0.034285758, 0.013511187, -0.002839558, -0.0068436824, 0.00049122004, 0.020514237, 0.028805383, -0.037726216, 0.024783632, -0.02331314, 0.002862464, -0.014093995, -0.009509481, 0.078803144, -0.010215729, 0.008182289, -0.025507879, 0.034025945, 0.10670341, -0.039799623, 0.074595414, 0.028313352, -0.053821716, -0.034231585, 0.024508419, -0.023075188, -0.004963769, -0.046397932, 0.039909095, 0.07142811, 0.003921665, -0.0040150345, -0.070971765, -0.011266723, -0.0013608194, 0.0235317, -0.013691177, 0.023602221, -0.027457131, 0.01342497, -0.033317335, 0.04710747, 0.046837334, -0.022252401, 0.024721747, -0.017620264, 0.009730369, -0.029507462, -0.0010338968, 0.077426, -0.041021176, 0.05266595, -0.028035754, 0.028520485, -0.012563651, -0.03806644, 0.010319866, 0.032606654, -0.0020416535, -0.04761453, -0.002124095, 0.031423844, 0.00664077, -0.053624686, 0.06728169, 0.03455854, -0.007841267, -0.000793467, -0.014580249, 0.009237094, 0.036934372, -0.02653253, 0.013161826, 0.0024331366, 0.0048430106, 0.015676536, 0.0307854, 0.028370218, 0.04974076, -0.022988075, 0.023020016, -0.0352787, 0.047803678, -0.009689638, -0.019916236, 0.053043347, -0.044195954, -0.06478012, -0.01160621, -0.01175315, 0.042169556, 0.045798093, 0.039377786, 0.002726369, -0.008408145, -0.008392798, 0.015681889, 0.010049046, 0.015007787, 0.028158959, 0.0090294145, -0.030877776, 0.025964892, 0.06796603, -0.08308381, -0.025245441, 0.012979564, 0.047523152, -0.05166006, -0.015325633, 0.048995864, 0.054462604, 0.013853133, -0.0084059695, 0.030029908, -0.033103053, -0.016742645, 0.019076858, 0.008173509, 0.006201409, 0.043463986, -0.0049255923, -0.047850385, -0.022695595, -0.018301358, -0.0025019094, 0.004074226, 0.039147638, 0.013239493, -0.04828476, 0.04669073, 0.010522813, 0.06504327, 0.042552423, -0.030053452, 0.027687456, -0.022918968, 0.04504132, -0.024863664, 0.044260886, -0.013344037, -0.05114155, -0.026413297, 0.004453219, -0.041012097, -0.013314201, 0.008475744, 0.009311395, 0.03997167, 0.015790064, -0.021207595, 0.035931885, -0.03702536, -0.07143578, 0.015559436, -0.01945191, -0.010691179, -0.035053987, 0.020874055, -0.018750733, 0.0029207356, -0.03504112, -0.025337415, -0.044017192, 0.05166587, -0.008039107, -0.03600476, 0.004022361, -0.012990815, -0.0071882904, 0.033839207, 0.06292168, 0.014445689, -0.038149554, 0.07007798, -0.01675399, 0.033594653, 0.028542865, 0.021417648, 0.018796457, -0.01591899, -0.0104282675, 0.042601634, -0.0056081982, 0.03916538, 0.004441623, -0.015348553, -0.019169856, -0.014306639, -0.03292827, -0.0514208, -0.04122185, -0.0145141315, -0.04295927, -0.0006161134, -0.04312328, 0.00410833, 0.043702476, -0.039130937, -0.0059134834, 0.0021433132, 0.025460836, 0.00042711993, -0.016716313, 0.0062697814, 0.0036063544, 0.0019582212, -0.0037454783, 0.01772083, -0.012597245, -0.029715743, -0.030294506, -0.012442167, 0.015908578, -0.015975691, 0.0059036976, 0.030072879, -0.015985439, -0.014608944, -0.052170057, -0.010626166, 0.019818448, 0.028582864, 0.016668523, -0.0056614224, 0.02567607, -0.015064867, -0.018830646, -0.05179723, -0.031104047, 0.014157545, -0.043848805, -0.055973288, 0.015135874, -0.020245377, 0.050641436, 0.034162324, -0.048180938, 0.031800486, -0.03842358, 0.008089768, -0.0032896635, -0.0029639944, 0.005508192, 0.010352119, -0.015066295, -0.024596797, -0.053653587, 0.08476014, 0.013707495, -0.0118081, -0.0044051274, 0.016433068, 0.08593568, -3.1238927e-05, -0.037396673, 0.017943569, -0.03219492, 0.054351762, 0.034509722, -0.017399255, -0.06405673, 0.013144177, -0.041196246, -0.03407577, 0.026924212, -0.005158397, -0.054324232, 0.022979453, 0.023101611, 0.0023397317, -0.0100673055, -0.029656189, -0.002554187, -0.012627056, 0.050038468, -0.027353002, 0.0019857183, -0.061196297, -0.034142155, 0.026422437, 0.013598113, -0.02044266, 0.025617348, -0.00345419, 0.005253191, -0.030335452, 0.027472563, 0.034522627, -0.047228802, 0.019644896, -0.008800342, 0.0066302414, -0.020780634, -0.028728187, 0.022985734, -0.056739505]"
        ],
        [
         "3",
         "Khoai Tây Chiên",
         "Khoai tây chiên là một món ăn phổ biến và được ưa chuộng trên khắp thế giới, với vị giòn của lớp áo bên ngoài và khoai tây mềm bên trong.",
         "khoai tây, dầu, muối",
         null,
         "[0.009064724, 0.056260645, -0.030308044, -0.05347341, 0.022399602, 0.01103881, 0.017154107, 0.01437873, 0.012406411, 0.02020918, -0.021461127, 0.029981503, 0.0149621675, 0.0045413496, 0.006691938, -0.057072245, 0.011076701, 0.017920291, -0.098086916, 0.010868897, 0.02572268, 0.015742766, 0.09806699, 0.020166598, -0.075064376, -0.034386665, 0.012887015, 0.00404158, 0.015810395, -0.08881654, 0.043138716, 0.037325, -0.030381685, 0.021737847, 0.025666649, 0.054306388, 0.004233706, 0.05363929, 0.014642563, -0.02250102, 0.013480802, -0.0004451843, -0.0046004686, 0.03068134, -0.039779015, -0.055292875, 0.012328898, 0.08229455, -0.015944373, 0.033449057, 0.057420373, 0.0016547694, -0.032542206, 0.09837794, 0.026609201, -0.0027802826, -0.01844994, -0.009342929, 0.016473118, -0.03731398, -0.0043556048, 0.025552923, -0.023943527, -0.014112307, -0.016869877, 0.0024552958, -0.037848685, -0.019528491, -0.031182291, -0.023613987, -0.04271103, -0.046511903, -0.06658462, 0.0044871885, 0.06880853, -0.031794645, -0.020483803, -0.010751208, -0.03744798, 0.08908106, -0.029298445, 0.08596958, 0.09600253, 0.059918944, 0.023477046, -0.054745924, 0.027481725, -0.048885226, -0.049692597, 0.038662065, 0.03154971, 0.033238474, -0.0050760005, -0.012954772, 0.06532491, -0.014486794, -0.10238121, -0.0853923, 0.08734796, 0.01954179, 0.016432531, 0.026923588, 0.02408423, -0.098109625, 0.033995364, 0.026928551, 0.041016906, 0.037126444, -0.037889283, 0.00024443003, -0.06829408, -0.053260114, 0.0059897164, 0.005238558, -0.011430117, 0.0080495635, -0.023897484, -0.004025995, -0.057481352, -0.0050963517, -0.020641811, 0.010897334, -0.01949785, 0.05127919, 0.037380252, 0.00025339072, -0.0045906147, -0.042525634, -0.043823697, -0.04393366, 0.005022975, -0.14815211, -0.049896628, 0.028687613, -0.019575339, 0.006828495, 0.005985784, -0.023182886, 0.047359098, 0.017218884, 0.012055064, -0.023704829, -0.020304661, -0.011929071, -0.021587957, -0.09723869, 0.020874366, 0.016362196, -0.009578324, -0.020498674, -0.029641284, -0.02087188, 0.0042706523, -0.022934552, 0.0038323838, 0.004751493, 0.011579303, -0.030553907, 0.032933436, 0.01860991, 0.016688844, -0.00689836, 0.030841097, 0.011171735, -0.05520476, -0.0057782955, 0.013466172, -0.05241692, 0.01438291, 0.035045907, 0.002391155, -0.045446552, 0.035431657, -0.10312606, -0.0037669523, -0.024016004, -0.014770924, 0.008133113, 0.019297218, 0.014117141, 0.06139917, 0.07276275, -0.0215739, -0.03211191, 0.03860333, -0.034886546, 0.034476653, 0.018855691, 0.06819319, 0.026480094, -0.050119158, 0.0410866, 0.03923512, 0.0036068403, -0.012736159, -0.028347405, 0.046255156, 0.0041537806, 0.025377182, -0.0025189742, 0.010032975, -0.031872507, -0.043178305, -0.044344734, -0.0027952415, 0.0527386, -0.038784433, -0.06768187, 0.063623875, -0.00833663, 0.021504892, 0.039029393, -0.029469868, -0.01916943, -0.02312681, -0.007159196, 0.03237855, 0.008398378, -0.005437517, -0.050501544, -0.0039290935, 0.029797325, 0.046467677, 0.018515574, 0.009991753, 0.0008416191, 0.00027348354, -0.035983853, 0.018876968, -0.032431602, -0.00027126385, 0.05002167, 0.0117590735, 0.059803877, 0.023305088, 0.014884416, 0.022527251, -0.038654838, 0.030874683, -0.0084888525, 0.017048307, 0.038597606, 0.08617031, 0.039869476, 0.0074453177, -0.028356329, 0.047367923, 0.05121729, 0.02156214, -0.060604, 0.03888134, -0.01771614, 0.03864452, -0.023764152, -0.054387204, -0.031687617, 0.0016494681, 0.06972118, -0.024844103, 0.0067628413, 0.040391836, 0.0061453823, -0.02744533, -0.10413697, -0.022177318, -0.06691287, 0.0005130303, 0.0104027325, 0.057663973, 0.014098426, 0.0066258423, -0.04768791, -0.0327283, -0.004162468, -0.030722562, -0.0021226637, -0.021929074, 0.015333862, 0.0018635045, -0.047567908, 0.032188505, 0.022498535, -0.04585362, 0.038873985, 0.061839696, -0.038144536, 0.040491764, 0.014399571, -0.06270361, 0.032857597, 0.06580477, 0.0063745324, -0.0025260085, -0.024902077, 0.029371455, 0.0172662, 0.013933859, -0.01479448, -0.028510362, -0.023583176, -0.035246633, 0.046819236, -0.020460375, 0.021362849, -0.029712958, -0.005147401, -0.01892617, -0.023524817, 0.026002154, 0.036545787, -0.0048092897, 0.06378253, -0.10157353, -0.021824025, -0.040436916, -0.043504667, -0.14274299, 0.0049022096, -0.025061691, 0.024249755, 0.060094986, 0.02951554, 0.0060844533, 0.033281974, 0.012355794, -0.0014145009, 0.016773608, -0.0047074673, 0.010540394, -0.04137257, 0.037464235, -0.033489853, -0.03830379, -0.028735673, -0.0024746421, 0.014763367, -0.09967473, 0.03333551, 0.039316975, 0.035688136, 0.020044286, 0.018444948, 0.012879535, 0.032442257, -0.031298127, -0.037122093, 0.022870006, 0.008349152, -0.0217264, 0.029182162, 0.031882595, 0.09258942, 0.042581815, -0.029511454, 0.0025247857, -0.006812677, 0.04890083, -0.02705558, 0.00060506904, -0.02728843, 0.024187468, -0.03994103, 0.035527118, 0.0023829355, 0.036575403, -0.0060624504, 0.046790574, 0.052764814, -0.023170667, -0.028441735, -0.031333882, 0.023459323, -0.012841879, 0.019379096, -0.0066638156, 0.008006987, -0.008723996, 0.032479353, 0.0079387855, -0.03194744, -0.023005554, -0.010221373, 0.0037823142, 0.026754698, -0.016355084, 0.037076555, -0.034708045, -0.059746016, 0.0013383896, 0.011950211, 0.0032681169, 0.031804137, 0.019359287, 0.03910415, -0.029971378, 0.034817148, 0.015994648, 0.004103788, -0.014641236, 0.015198465, 0.011852788, 0.017680285, 0.08957358, -0.022921696, 0.006306636, -0.013658234, 0.03144553, -0.011727815, 0.017316088, 0.05541968, -0.011628422, 0.011635261, 0.0005311073, -0.010393683, -0.045724373, -0.0026631893, 0.0068792985, -0.031449694, 0.023632323, 0.035318304, -0.01919672, 0.05001195, 0.049214654, 0.020995066, -0.027211718, -0.0154618025, -0.004754736, 0.03122841, -0.04996507, -0.023272905, 0.052835092, 0.06798071, -0.020217594, 0.019282065, 0.043079965, -0.046147715, 0.007978067, 0.01268801, -0.008287782, -0.0056578885, 0.024679165, -0.0044594863, -0.017881818, 0.0088145295, -0.055205356, 0.017906534, 0.06695097, 0.0054544853, -0.02849519, 0.001076021, -0.010880551, 0.027058983, -0.024074467, -0.0025644505, -0.056447804, -0.029655954, 0.03755311, 0.069013424, -0.0036236306, 0.017444296, -0.03642537, -0.022090541, 0.003561513, -0.027016079, 0.015170924, -0.03580305, -0.036276095, 0.0018288345, -0.0606974, -0.016548391, 0.05672228, -0.06353573, 0.018738862, 0.010216695, -0.020037714, -0.015019678, 0.07333652, 0.015964007, -0.0041200276, 0.03947417, -0.03515603, 0.03082668, -0.025705034, 0.0046304, 0.034909975, -0.019523697, 0.009711953, 0.046808593, 0.024040574, 0.069396645, -0.02692308, 0.08613621, 0.0024600576, -0.03530722, -0.02947096, 0.024761682, 0.02009148, -0.005245813, -0.051075794, 0.03199243, 0.09665513, -0.022564353, -0.027277319, -0.063359424, -0.040406175, -0.029203173, -0.0040417896, -0.022203352, -0.010276034, 0.00060037704, 0.014239513, -0.07263057, 0.009901913, 0.062451653, -0.009028477, 0.02993148, -0.00932802, 0.011822124, -0.016112668, 0.046339717, 0.05695027, -0.010668939, 0.07780227, -0.0020848974, -0.0057461928, 0.011701414, -0.008328818, 0.025567893, 0.026553696, -0.026942028, -0.03189825, -0.0054873363, 0.031544015, 0.0036546628, -0.040797535, 0.0862834, 0.06075719, -0.042032074, -0.0087408675, 0.011958334, 0.01304354, 0.04080265, -0.014213989, 0.011392626, 0.04536101, -0.008902541, 0.029244753, 0.0710439, -0.00028775347, 0.05396888, -0.035264857, -0.022271406, -0.0019119264, 0.007872936, -0.023774369, -0.003240581, 0.051415607, -0.040924758, -0.06955034, -0.022756696, -0.016602121, 0.03022555, 0.027794491, -0.0020542613, 0.036534704, -0.024577256, -0.01634523, 0.04032134, 0.00019433435, 0.0045626233, 0.029834492, -0.0074038254, -0.019984229, 0.04060374, 0.03533888, -0.061972868, 0.008633258, 0.024062661, 0.06317884, -0.029636279, -0.03367459, -0.009446538, 0.024163501, 0.01064756, 0.004940372, 0.013378389, -0.0069702393, 0.020099767, -0.0030541036, 0.023246627, -0.027027875, 0.06714727, -0.010704768, -0.07666642, -0.04832758, -0.012625074, -0.056265123, 0.04837249, 0.015317528, -0.014002455, -0.029851275, 0.027005458, 0.005075339, 0.02506825, 0.022808447, -0.011549773, 0.030338228, -0.038868327, 0.029843716, -0.02966974, 0.023202986, 0.017218916, -0.024782514, -0.029434847, 0.01148028, -0.017047932, 0.0013582602, 0.031816047, 0.032739263, 0.054031074, 0.007036442, -0.044019915, 0.023357173, -0.042480655, -0.07461706, 0.016250582, 0.024129856, 0.0028220522, -0.023973389, 0.023033507, -0.0007777051, 0.03448954, -0.024533732, -0.02727926, -0.037078176, 0.0023668874, 0.018381316, -0.057916462, -0.033133328, -0.0052586095, 0.007706061, 0.030000152, 0.07590603, -0.0041589513, -0.024864066, 0.03095732, -0.042280596, 0.05104768, 0.015286757, 0.022697397, 0.00039158258, 0.015799602, -0.041973386, 0.072503805, 0.015083858, 0.017125363, -0.020550903, -0.027867923, -0.006801107, 0.0041961027, -0.06801374, -0.009898954, -0.025497045, 0.013011344, -0.064847745, -0.025754418, -0.057947513, 0.025107814, -0.002282893, -0.03528066, -0.03029269, 0.06189081, -0.02491903, -0.005840217, -0.026063638, -0.0045992564, -0.015896456, 0.011398743, -0.017340716, 0.011146216, -0.01634284, -0.01592483, -0.00087673246, -0.0072278944, 0.018609343, 0.03170742, 0.027619218, -0.0018180022, -0.039732542, 0.026833447, -0.038093716, -0.0071070115, 0.017764177, 0.035146784, 0.009355885, 0.03325368, 0.02079463, -0.028488044, 0.015189053, -0.02538895, -0.050745115, 0.0072429334, -0.018568201, -0.05179406, 0.020370087, -0.012541839, 0.07509785, 0.015895989, -0.043640714, 0.043551248, -0.030613225, 0.023995815, -0.025037536, 0.01761409, 0.018202849, -0.0023694616, 0.022505729, 0.0063122055, -0.058422104, 0.033008523, 0.042852428, -0.05164872, 0.051154613, 0.022701513, 0.079772495, -0.022683334, -0.015139886, -0.00066643226, -0.026788507, 0.037097946, 0.052892372, -0.04676296, -0.064812995, 0.0060513173, -0.04912074, -0.03648162, -0.00040505265, 0.004770802, -0.043459214, 0.024468156, 0.0027000424, -0.0071625737, -0.013329595, -0.049274795, -0.015915124, 0.003987471, 0.036231294, -0.01588794, -0.0058638477, -0.054631855, -0.045129377, -0.001194553, -0.00889823, -0.009308572, 0.051411375, 0.008809216, -0.020507485, 0.0071009602, 0.04514916, 0.0413754, -0.028420733, 0.05341084, -0.006383274, -0.014202926, -0.05748857, -0.026932811, 0.02036846, -0.044005584]"
        ]
       ],
       "shape": {
        "columns": 5,
        "rows": 5
       }
      },
      "text/html": [
       "<div>\n",
       "<style scoped>\n",
       "    .dataframe tbody tr th:only-of-type {\n",
       "        vertical-align: middle;\n",
       "    }\n",
       "\n",
       "    .dataframe tbody tr th {\n",
       "        vertical-align: top;\n",
       "    }\n",
       "\n",
       "    .dataframe thead th {\n",
       "        text-align: right;\n",
       "    }\n",
       "</style>\n",
       "<table border=\"1\" class=\"dataframe\">\n",
       "  <thead>\n",
       "    <tr style=\"text-align: right;\">\n",
       "      <th></th>\n",
       "      <th>name</th>\n",
       "      <th>description</th>\n",
       "      <th>ingredients</th>\n",
       "      <th>notes</th>\n",
       "      <th>description_emb</th>\n",
       "    </tr>\n",
       "  </thead>\n",
       "  <tbody>\n",
       "    <tr>\n",
       "      <th>0</th>\n",
       "      <td>Gỏi Cuốn</td>\n",
       "      <td>Mỗi chiếc gỏi cuốn được cuốn cẩn thận trong lá...</td>\n",
       "      <td>bún, bánh tráng, tôm, thịt bò phi lê, rau sống</td>\n",
       "      <td>Món gỏi cuốn thường được phục vụ tươi và phải ...</td>\n",
       "      <td>[-0.013258968, 0.072852395, -0.0081224935, -0....</td>\n",
       "    </tr>\n",
       "    <tr>\n",
       "      <th>1</th>\n",
       "      <td>Phở Việt Nam</td>\n",
       "      <td>Nổi tiếng với hương vị đậm đà và hương thơm củ...</td>\n",
       "      <td>bún phở, thịt bò, thịt gà, hành tây, hành phi,...</td>\n",
       "      <td>Thịt bò có thể chọn giữa tái và chín.</td>\n",
       "      <td>[-0.015033179, 0.04973999, -0.0054149763, -0.0...</td>\n",
       "    </tr>\n",
       "    <tr>\n",
       "      <th>2</th>\n",
       "      <td>Cơm Tấm</td>\n",
       "      <td>Cơm tấm là một món ăn đường phố phổ biến trong...</td>\n",
       "      <td>gạo tấm, thịt heo, trứng, chả, dưa leo, nước m...</td>\n",
       "      <td>Cơm tấm thường được ăn vào bữa trưa hoặc bữa t...</td>\n",
       "      <td>[0.009709443, 0.078435704, -0.027416762, -0.04...</td>\n",
       "    </tr>\n",
       "    <tr>\n",
       "      <th>3</th>\n",
       "      <td>Bún Bò</td>\n",
       "      <td>Bún bò là một món ăn đặc trưng của ẩm thực miề...</td>\n",
       "      <td>bún, thịt bò, hành tây, hành tím, rau sống</td>\n",
       "      <td>Thịt bò có thể chọn giữa tái, nạm, bắp bò, giò...</td>\n",
       "      <td>[-0.0042047882, 0.059224624, -0.000562346, -0....</td>\n",
       "    </tr>\n",
       "    <tr>\n",
       "      <th>3</th>\n",
       "      <td>Khoai Tây Chiên</td>\n",
       "      <td>Khoai tây chiên là một món ăn phổ biến và được...</td>\n",
       "      <td>khoai tây, dầu, muối</td>\n",
       "      <td>NaN</td>\n",
       "      <td>[0.009064724, 0.056260645, -0.030308044, -0.05...</td>\n",
       "    </tr>\n",
       "  </tbody>\n",
       "</table>\n",
       "</div>"
      ],
      "text/plain": [
       "              name                                        description  \\\n",
       "0         Gỏi Cuốn  Mỗi chiếc gỏi cuốn được cuốn cẩn thận trong lá...   \n",
       "1     Phở Việt Nam  Nổi tiếng với hương vị đậm đà và hương thơm củ...   \n",
       "2          Cơm Tấm  Cơm tấm là một món ăn đường phố phổ biến trong...   \n",
       "3           Bún Bò  Bún bò là một món ăn đặc trưng của ẩm thực miề...   \n",
       "3  Khoai Tây Chiên  Khoai tây chiên là một món ăn phổ biến và được...   \n",
       "\n",
       "                                         ingredients  \\\n",
       "0     bún, bánh tráng, tôm, thịt bò phi lê, rau sống   \n",
       "1  bún phở, thịt bò, thịt gà, hành tây, hành phi,...   \n",
       "2  gạo tấm, thịt heo, trứng, chả, dưa leo, nước m...   \n",
       "3         bún, thịt bò, hành tây, hành tím, rau sống   \n",
       "3                               khoai tây, dầu, muối   \n",
       "\n",
       "                                               notes  \\\n",
       "0  Món gỏi cuốn thường được phục vụ tươi và phải ...   \n",
       "1              Thịt bò có thể chọn giữa tái và chín.   \n",
       "2  Cơm tấm thường được ăn vào bữa trưa hoặc bữa t...   \n",
       "3  Thịt bò có thể chọn giữa tái, nạm, bắp bò, giò...   \n",
       "3                                                NaN   \n",
       "\n",
       "                                     description_emb  \n",
       "0  [-0.013258968, 0.072852395, -0.0081224935, -0....  \n",
       "1  [-0.015033179, 0.04973999, -0.0054149763, -0.0...  \n",
       "2  [0.009709443, 0.078435704, -0.027416762, -0.04...  \n",
       "3  [-0.0042047882, 0.059224624, -0.000562346, -0....  \n",
       "3  [0.009064724, 0.056260645, -0.030308044, -0.05...  "
      ]
     },
     "execution_count": 22,
     "metadata": {},
     "output_type": "execute_result"
    }
   ],
   "source": [
    "model_name = 'models/text-embedding-004' # chọn mô hình\n",
    "\n",
    "def embed_column(title, text): # gửi văn text và tiêu đề đến mô hình embedding \n",
    "    return genai.embed_content(model=model_name, # => vector số hóa (embedding)\n",
    "                               content=text,\n",
    "                               task_type='retrieval_document', # giúp mô hình hiểu: dùng trong hệ thống hỏi - đáp dựa trên tìm kiếm nội dung\n",
    "                               title=title) ['embedding']\n",
    "    \n",
    "menu_df['description_emb'] = menu_df.apply(lambda row: embed_column(row['name'], row['description']), axis=1) # duyệt từng row của DF menu_df\n",
    "\n",
    "menu_df"
   ]
  },
  {
   "cell_type": "code",
   "execution_count": 25,
   "metadata": {},
   "outputs": [
    {
     "data": {
      "text/plain": [
       "'Chào mừng bạn đến với PhoBo Cuisine!  Vâng ạ, nhà hàng chúng tôi có món Phở Việt Nam rất nổi tiếng đấy ạ.  Ngoài ra, chúng tôi còn phục vụ nhiều món ăn Việt Nam khác nữa, mời bạn xem qua menu để lựa chọn nhé!\\n'"
      ]
     },
     "execution_count": 25,
     "metadata": {},
     "output_type": "execute_result"
    }
   ],
   "source": [
    "prompt = \"Có món nào có phở không?\"\n",
    "response = model.generate_content(prompt)\n",
    "response.text"
   ]
  }
 ],
 "metadata": {
  "kernelspec": {
   "display_name": ".venv",
   "language": "python",
   "name": "python3"
  },
  "language_info": {
   "codemirror_mode": {
    "name": "ipython",
    "version": 3
   },
   "file_extension": ".py",
   "mimetype": "text/x-python",
   "name": "python",
   "nbconvert_exporter": "python",
   "pygments_lexer": "ipython3",
   "version": "3.9.6"
  }
 },
 "nbformat": 4,
 "nbformat_minor": 2
}
